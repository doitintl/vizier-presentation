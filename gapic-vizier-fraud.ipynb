{
 "cells": [
  {
   "cell_type": "markdown",
   "metadata": {
    "id": "b6f3dc43494b"
   },
   "source": [
    "# Using the gapic Vertex Vizier API\n",
    "\n",
    "Run this inside a Virtual Environment (even if in a Notebook instance) to isolate the different library versions (and in particular, Tensorflow).\n",
    "\n",
    "__[Instructions](https://janakiev.com/blog/jupyter-virtual-envs/)__ heree."
   ]
  },
  {
   "cell_type": "code",
   "execution_count": 1,
   "metadata": {
    "id": "b6f3dc43494b"
   },
   "outputs": [],
   "source": [
    "from time import time\n",
    "start=time()"
   ]
  },
  {
   "cell_type": "markdown",
   "metadata": {
    "id": "b6f3dc43494b"
   },
   "source": [
    "This Notebook is built to run in Google Cloud Notebooks, where you are already authenticated."
   ]
  },
  {
   "cell_type": "code",
   "execution_count": 2,
   "metadata": {
    "id": "b6f3dc43494b"
   },
   "outputs": [],
   "source": [
    "import sys\n",
    "import imp\n",
    "import os \n",
    "assert os.path.exists(\"/opt/deeplearning/metadata/env_version\"), \"Should be running in Notebook\""
   ]
  },
  {
   "cell_type": "code",
   "execution_count": 3,
   "metadata": {
    "id": "g7WlujNxbq6Q"
   },
   "outputs": [
    {
     "name": "stdout",
     "output_type": "stream",
     "text": [
      "Requirement already satisfied: google-cloud-aiplatform in /opt/conda/lib/python3.7/site-packages (1.8.1)\n",
      "Requirement already satisfied: google-cloud-storage<2.0.0dev,>=1.32.0 in /opt/conda/lib/python3.7/site-packages (from google-cloud-aiplatform) (1.43.0)\n",
      "Requirement already satisfied: proto-plus>=1.10.1 in /opt/conda/lib/python3.7/site-packages (from google-cloud-aiplatform) (1.19.8)\n",
      "Requirement already satisfied: packaging>=14.3 in /opt/conda/lib/python3.7/site-packages (from google-cloud-aiplatform) (21.3)\n",
      "Requirement already satisfied: google-api-core[grpc]<3.0.0dev,>=1.26.0 in /opt/conda/lib/python3.7/site-packages (from google-cloud-aiplatform) (2.3.2)\n",
      "Requirement already satisfied: google-cloud-bigquery<3.0.0dev,>=1.15.0 in /opt/conda/lib/python3.7/site-packages (from google-cloud-aiplatform) (2.31.0)\n",
      "Requirement already satisfied: requests<3.0.0dev,>=2.18.0 in /opt/conda/lib/python3.7/site-packages (from google-api-core[grpc]<3.0.0dev,>=1.26.0->google-cloud-aiplatform) (2.26.0)\n",
      "Requirement already satisfied: googleapis-common-protos<2.0dev,>=1.52.0 in /opt/conda/lib/python3.7/site-packages (from google-api-core[grpc]<3.0.0dev,>=1.26.0->google-cloud-aiplatform) (1.53.0)\n",
      "Requirement already satisfied: google-auth<3.0dev,>=1.25.0 in /opt/conda/lib/python3.7/site-packages (from google-api-core[grpc]<3.0.0dev,>=1.26.0->google-cloud-aiplatform) (2.3.3)\n",
      "Requirement already satisfied: setuptools>=40.3.0 in /opt/conda/lib/python3.7/site-packages (from google-api-core[grpc]<3.0.0dev,>=1.26.0->google-cloud-aiplatform) (59.6.0)\n",
      "Requirement already satisfied: protobuf>=3.12.0 in /opt/conda/lib/python3.7/site-packages (from google-api-core[grpc]<3.0.0dev,>=1.26.0->google-cloud-aiplatform) (3.19.1)\n",
      "Requirement already satisfied: grpcio-status<2.0dev,>=1.33.2 in /opt/conda/lib/python3.7/site-packages (from google-api-core[grpc]<3.0.0dev,>=1.26.0->google-cloud-aiplatform) (1.43.0)\n",
      "Requirement already satisfied: grpcio<2.0dev,>=1.33.2 in /opt/conda/lib/python3.7/site-packages (from google-api-core[grpc]<3.0.0dev,>=1.26.0->google-cloud-aiplatform) (1.43.0)\n",
      "Requirement already satisfied: python-dateutil<3.0dev,>=2.7.2 in /opt/conda/lib/python3.7/site-packages (from google-cloud-bigquery<3.0.0dev,>=1.15.0->google-cloud-aiplatform) (2.8.2)\n",
      "Requirement already satisfied: google-cloud-core<3.0.0dev,>=1.4.1 in /opt/conda/lib/python3.7/site-packages (from google-cloud-bigquery<3.0.0dev,>=1.15.0->google-cloud-aiplatform) (2.2.1)\n",
      "Requirement already satisfied: google-resumable-media<3.0dev,>=0.6.0 in /opt/conda/lib/python3.7/site-packages (from google-cloud-bigquery<3.0.0dev,>=1.15.0->google-cloud-aiplatform) (2.1.0)\n",
      "Requirement already satisfied: six in /opt/conda/lib/python3.7/site-packages (from google-cloud-storage<2.0.0dev,>=1.32.0->google-cloud-aiplatform) (1.16.0)\n",
      "Requirement already satisfied: pyparsing!=3.0.5,>=2.0.2 in /opt/conda/lib/python3.7/site-packages (from packaging>=14.3->google-cloud-aiplatform) (3.0.6)\n",
      "Requirement already satisfied: pyasn1-modules>=0.2.1 in /opt/conda/lib/python3.7/site-packages (from google-auth<3.0dev,>=1.25.0->google-api-core[grpc]<3.0.0dev,>=1.26.0->google-cloud-aiplatform) (0.2.7)\n",
      "Requirement already satisfied: cachetools<5.0,>=2.0.0 in /opt/conda/lib/python3.7/site-packages (from google-auth<3.0dev,>=1.25.0->google-api-core[grpc]<3.0.0dev,>=1.26.0->google-cloud-aiplatform) (4.2.4)\n",
      "Requirement already satisfied: rsa<5,>=3.1.4 in /opt/conda/lib/python3.7/site-packages (from google-auth<3.0dev,>=1.25.0->google-api-core[grpc]<3.0.0dev,>=1.26.0->google-cloud-aiplatform) (4.8)\n",
      "Requirement already satisfied: google-crc32c<2.0dev,>=1.0 in /opt/conda/lib/python3.7/site-packages (from google-resumable-media<3.0dev,>=0.6.0->google-cloud-bigquery<3.0.0dev,>=1.15.0->google-cloud-aiplatform) (1.1.2)\n",
      "Requirement already satisfied: charset-normalizer~=2.0.0 in /opt/conda/lib/python3.7/site-packages (from requests<3.0.0dev,>=2.18.0->google-api-core[grpc]<3.0.0dev,>=1.26.0->google-cloud-aiplatform) (2.0.9)\n",
      "Requirement already satisfied: certifi>=2017.4.17 in /opt/conda/lib/python3.7/site-packages (from requests<3.0.0dev,>=2.18.0->google-api-core[grpc]<3.0.0dev,>=1.26.0->google-cloud-aiplatform) (2021.10.8)\n",
      "Requirement already satisfied: idna<4,>=2.5 in /opt/conda/lib/python3.7/site-packages (from requests<3.0.0dev,>=2.18.0->google-api-core[grpc]<3.0.0dev,>=1.26.0->google-cloud-aiplatform) (3.1)\n",
      "Requirement already satisfied: urllib3<1.27,>=1.21.1 in /opt/conda/lib/python3.7/site-packages (from requests<3.0.0dev,>=2.18.0->google-api-core[grpc]<3.0.0dev,>=1.26.0->google-cloud-aiplatform) (1.26.7)\n",
      "Requirement already satisfied: cffi>=1.0.0 in /opt/conda/lib/python3.7/site-packages (from google-crc32c<2.0dev,>=1.0->google-resumable-media<3.0dev,>=0.6.0->google-cloud-bigquery<3.0.0dev,>=1.15.0->google-cloud-aiplatform) (1.15.0)\n",
      "Requirement already satisfied: pyasn1<0.5.0,>=0.4.6 in /opt/conda/lib/python3.7/site-packages (from pyasn1-modules>=0.2.1->google-auth<3.0dev,>=1.25.0->google-api-core[grpc]<3.0.0dev,>=1.26.0->google-cloud-aiplatform) (0.4.8)\n",
      "Requirement already satisfied: pycparser in /opt/conda/lib/python3.7/site-packages (from cffi>=1.0.0->google-crc32c<2.0dev,>=1.0->google-resumable-media<3.0dev,>=0.6.0->google-cloud-bigquery<3.0.0dev,>=1.15.0->google-cloud-aiplatform) (2.21)\n",
      "Requirement already satisfied: xgboost==1.2 in /home/jupyter/.local/lib/python3.7/site-packages (1.2.0)\n",
      "Requirement already satisfied: scipy in /opt/conda/lib/python3.7/site-packages (from xgboost==1.2) (1.7.3)\n",
      "Requirement already satisfied: numpy in /opt/conda/lib/python3.7/site-packages (from xgboost==1.2) (1.19.5)\n",
      "Requirement already satisfied: witwidget in /home/jupyter/.local/lib/python3.7/site-packages (1.8.1)\n",
      "Requirement already satisfied: six>=1.12.0 in /opt/conda/lib/python3.7/site-packages (from witwidget) (1.16.0)\n",
      "Requirement already satisfied: ipywidgets>=7.0.0 in /opt/conda/lib/python3.7/site-packages (from witwidget) (7.6.5)\n",
      "Requirement already satisfied: tensorflow>=1.12.1 in /home/jupyter/.local/lib/python3.7/site-packages (from witwidget) (2.7.0)\n",
      "Requirement already satisfied: google-api-python-client>=1.7.8 in /opt/conda/lib/python3.7/site-packages (from witwidget) (2.33.0)\n",
      "Requirement already satisfied: absl-py>=0.4 in /home/jupyter/.local/lib/python3.7/site-packages (from witwidget) (1.0.0)\n",
      "Requirement already satisfied: oauth2client>=4.1.3 in /home/jupyter/.local/lib/python3.7/site-packages (from witwidget) (4.1.3)\n",
      "Requirement already satisfied: httplib2<1dev,>=0.15.0 in /opt/conda/lib/python3.7/site-packages (from google-api-python-client>=1.7.8->witwidget) (0.20.2)\n",
      "Requirement already satisfied: google-auth-httplib2>=0.1.0 in /opt/conda/lib/python3.7/site-packages (from google-api-python-client>=1.7.8->witwidget) (0.1.0)\n",
      "Requirement already satisfied: google-auth<3.0.0dev,>=1.16.0 in /opt/conda/lib/python3.7/site-packages (from google-api-python-client>=1.7.8->witwidget) (2.3.3)\n",
      "Requirement already satisfied: google-api-core<3.0.0dev,>=1.21.0 in /opt/conda/lib/python3.7/site-packages (from google-api-python-client>=1.7.8->witwidget) (2.3.2)\n",
      "Requirement already satisfied: uritemplate<5,>=3.0.0 in /opt/conda/lib/python3.7/site-packages (from google-api-python-client>=1.7.8->witwidget) (4.1.1)\n",
      "Requirement already satisfied: widgetsnbextension~=3.5.0 in /opt/conda/lib/python3.7/site-packages (from ipywidgets>=7.0.0->witwidget) (3.5.2)\n",
      "Requirement already satisfied: nbformat>=4.2.0 in /opt/conda/lib/python3.7/site-packages (from ipywidgets>=7.0.0->witwidget) (5.1.3)\n",
      "Requirement already satisfied: ipython-genutils~=0.2.0 in /opt/conda/lib/python3.7/site-packages (from ipywidgets>=7.0.0->witwidget) (0.2.0)\n",
      "Requirement already satisfied: ipykernel>=4.5.1 in /opt/conda/lib/python3.7/site-packages (from ipywidgets>=7.0.0->witwidget) (6.6.0)\n",
      "Requirement already satisfied: ipython>=4.0.0 in /opt/conda/lib/python3.7/site-packages (from ipywidgets>=7.0.0->witwidget) (7.30.1)\n",
      "Requirement already satisfied: jupyterlab-widgets>=1.0.0 in /opt/conda/lib/python3.7/site-packages (from ipywidgets>=7.0.0->witwidget) (1.0.2)\n",
      "Requirement already satisfied: traitlets>=4.3.1 in /opt/conda/lib/python3.7/site-packages (from ipywidgets>=7.0.0->witwidget) (5.1.1)\n",
      "Requirement already satisfied: rsa>=3.1.4 in /opt/conda/lib/python3.7/site-packages (from oauth2client>=4.1.3->witwidget) (4.8)\n",
      "Requirement already satisfied: pyasn1-modules>=0.0.5 in /opt/conda/lib/python3.7/site-packages (from oauth2client>=4.1.3->witwidget) (0.2.7)\n",
      "Requirement already satisfied: pyasn1>=0.1.7 in /opt/conda/lib/python3.7/site-packages (from oauth2client>=4.1.3->witwidget) (0.4.8)\n",
      "Requirement already satisfied: numpy>=1.14.5 in /opt/conda/lib/python3.7/site-packages (from tensorflow>=1.12.1->witwidget) (1.19.5)\n",
      "Requirement already satisfied: wrapt>=1.11.0 in /opt/conda/lib/python3.7/site-packages (from tensorflow>=1.12.1->witwidget) (1.13.3)\n",
      "Requirement already satisfied: tensorflow-io-gcs-filesystem>=0.21.0 in /home/jupyter/.local/lib/python3.7/site-packages (from tensorflow>=1.12.1->witwidget) (0.23.1)\n",
      "Requirement already satisfied: keras<2.8,>=2.7.0rc0 in /home/jupyter/.local/lib/python3.7/site-packages (from tensorflow>=1.12.1->witwidget) (2.7.0)\n",
      "Requirement already satisfied: h5py>=2.9.0 in /home/jupyter/.local/lib/python3.7/site-packages (from tensorflow>=1.12.1->witwidget) (3.6.0)\n",
      "Requirement already satisfied: astunparse>=1.6.0 in /home/jupyter/.local/lib/python3.7/site-packages (from tensorflow>=1.12.1->witwidget) (1.6.3)\n",
      "Requirement already satisfied: typing-extensions>=3.6.6 in /opt/conda/lib/python3.7/site-packages (from tensorflow>=1.12.1->witwidget) (4.0.1)\n",
      "Requirement already satisfied: tensorboard~=2.6 in /home/jupyter/.local/lib/python3.7/site-packages (from tensorflow>=1.12.1->witwidget) (2.7.0)\n",
      "Requirement already satisfied: protobuf>=3.9.2 in /opt/conda/lib/python3.7/site-packages (from tensorflow>=1.12.1->witwidget) (3.19.1)\n",
      "Requirement already satisfied: termcolor>=1.1.0 in /home/jupyter/.local/lib/python3.7/site-packages (from tensorflow>=1.12.1->witwidget) (1.1.0)\n",
      "Requirement already satisfied: google-pasta>=0.1.1 in /home/jupyter/.local/lib/python3.7/site-packages (from tensorflow>=1.12.1->witwidget) (0.2.0)\n",
      "Requirement already satisfied: wheel<1.0,>=0.32.0 in /opt/conda/lib/python3.7/site-packages (from tensorflow>=1.12.1->witwidget) (0.37.0)\n",
      "Requirement already satisfied: gast<0.5.0,>=0.2.1 in /home/jupyter/.local/lib/python3.7/site-packages (from tensorflow>=1.12.1->witwidget) (0.4.0)\n",
      "Requirement already satisfied: flatbuffers<3.0,>=1.12 in /home/jupyter/.local/lib/python3.7/site-packages (from tensorflow>=1.12.1->witwidget) (2.0)\n",
      "Requirement already satisfied: opt-einsum>=2.3.2 in /home/jupyter/.local/lib/python3.7/site-packages (from tensorflow>=1.12.1->witwidget) (3.3.0)\n",
      "Requirement already satisfied: libclang>=9.0.1 in /home/jupyter/.local/lib/python3.7/site-packages (from tensorflow>=1.12.1->witwidget) (12.0.0)\n",
      "Requirement already satisfied: keras-preprocessing>=1.1.1 in /home/jupyter/.local/lib/python3.7/site-packages (from tensorflow>=1.12.1->witwidget) (1.1.2)\n",
      "Requirement already satisfied: grpcio<2.0,>=1.24.3 in /opt/conda/lib/python3.7/site-packages (from tensorflow>=1.12.1->witwidget) (1.43.0)\n",
      "Requirement already satisfied: tensorflow-estimator<2.8,~=2.7.0rc0 in /home/jupyter/.local/lib/python3.7/site-packages (from tensorflow>=1.12.1->witwidget) (2.7.0)\n",
      "Requirement already satisfied: setuptools>=40.3.0 in /opt/conda/lib/python3.7/site-packages (from google-api-core<3.0.0dev,>=1.21.0->google-api-python-client>=1.7.8->witwidget) (59.6.0)\n",
      "Requirement already satisfied: requests<3.0.0dev,>=2.18.0 in /opt/conda/lib/python3.7/site-packages (from google-api-core<3.0.0dev,>=1.21.0->google-api-python-client>=1.7.8->witwidget) (2.26.0)\n",
      "Requirement already satisfied: googleapis-common-protos<2.0dev,>=1.52.0 in /opt/conda/lib/python3.7/site-packages (from google-api-core<3.0.0dev,>=1.21.0->google-api-python-client>=1.7.8->witwidget) (1.53.0)\n",
      "Requirement already satisfied: cachetools<5.0,>=2.0.0 in /opt/conda/lib/python3.7/site-packages (from google-auth<3.0.0dev,>=1.16.0->google-api-python-client>=1.7.8->witwidget) (4.2.4)\n",
      "Requirement already satisfied: cached-property in /home/jupyter/.local/lib/python3.7/site-packages (from h5py>=2.9.0->tensorflow>=1.12.1->witwidget) (1.5.2)\n",
      "Requirement already satisfied: pyparsing!=3.0.0,!=3.0.1,!=3.0.2,!=3.0.3,<4,>=2.4.2 in /opt/conda/lib/python3.7/site-packages (from httplib2<1dev,>=0.15.0->google-api-python-client>=1.7.8->witwidget) (3.0.6)\n",
      "Requirement already satisfied: matplotlib-inline<0.2.0,>=0.1.0 in /opt/conda/lib/python3.7/site-packages (from ipykernel>=4.5.1->ipywidgets>=7.0.0->witwidget) (0.1.3)\n",
      "Requirement already satisfied: argcomplete>=1.12.3 in /opt/conda/lib/python3.7/site-packages (from ipykernel>=4.5.1->ipywidgets>=7.0.0->witwidget) (1.12.3)\n",
      "Requirement already satisfied: importlib-metadata<5 in /opt/conda/lib/python3.7/site-packages (from ipykernel>=4.5.1->ipywidgets>=7.0.0->witwidget) (4.9.0)\n",
      "Requirement already satisfied: tornado<7.0,>=4.2 in /opt/conda/lib/python3.7/site-packages (from ipykernel>=4.5.1->ipywidgets>=7.0.0->witwidget) (6.1)\n",
      "Requirement already satisfied: debugpy<2.0,>=1.0.0 in /opt/conda/lib/python3.7/site-packages (from ipykernel>=4.5.1->ipywidgets>=7.0.0->witwidget) (1.5.1)\n",
      "Requirement already satisfied: jupyter-client<8.0 in /opt/conda/lib/python3.7/site-packages (from ipykernel>=4.5.1->ipywidgets>=7.0.0->witwidget) (7.1.0)\n",
      "Requirement already satisfied: jedi>=0.16 in /opt/conda/lib/python3.7/site-packages (from ipython>=4.0.0->ipywidgets>=7.0.0->witwidget) (0.18.1)\n",
      "Requirement already satisfied: pexpect>4.3 in /opt/conda/lib/python3.7/site-packages (from ipython>=4.0.0->ipywidgets>=7.0.0->witwidget) (4.8.0)\n",
      "Requirement already satisfied: pickleshare in /opt/conda/lib/python3.7/site-packages (from ipython>=4.0.0->ipywidgets>=7.0.0->witwidget) (0.7.5)\n",
      "Requirement already satisfied: pygments in /opt/conda/lib/python3.7/site-packages (from ipython>=4.0.0->ipywidgets>=7.0.0->witwidget) (2.10.0)\n",
      "Requirement already satisfied: prompt-toolkit!=3.0.0,!=3.0.1,<3.1.0,>=2.0.0 in /opt/conda/lib/python3.7/site-packages (from ipython>=4.0.0->ipywidgets>=7.0.0->witwidget) (3.0.24)\n",
      "Requirement already satisfied: decorator in /opt/conda/lib/python3.7/site-packages (from ipython>=4.0.0->ipywidgets>=7.0.0->witwidget) (5.1.0)\n",
      "Requirement already satisfied: backcall in /opt/conda/lib/python3.7/site-packages (from ipython>=4.0.0->ipywidgets>=7.0.0->witwidget) (0.2.0)\n",
      "Requirement already satisfied: jupyter-core in /opt/conda/lib/python3.7/site-packages (from nbformat>=4.2.0->ipywidgets>=7.0.0->witwidget) (4.9.1)\n",
      "Requirement already satisfied: jsonschema!=2.5.0,>=2.4 in /opt/conda/lib/python3.7/site-packages (from nbformat>=4.2.0->ipywidgets>=7.0.0->witwidget) (4.3.1)\n",
      "Requirement already satisfied: tensorboard-plugin-wit>=1.6.0 in /home/jupyter/.local/lib/python3.7/site-packages (from tensorboard~=2.6->tensorflow>=1.12.1->witwidget) (1.8.0)\n",
      "Requirement already satisfied: werkzeug>=0.11.15 in /home/jupyter/.local/lib/python3.7/site-packages (from tensorboard~=2.6->tensorflow>=1.12.1->witwidget) (2.0.2)\n",
      "Requirement already satisfied: markdown>=2.6.8 in /opt/conda/lib/python3.7/site-packages (from tensorboard~=2.6->tensorflow>=1.12.1->witwidget) (3.3.6)\n",
      "Requirement already satisfied: tensorboard-data-server<0.7.0,>=0.6.0 in /home/jupyter/.local/lib/python3.7/site-packages (from tensorboard~=2.6->tensorflow>=1.12.1->witwidget) (0.6.1)\n",
      "Requirement already satisfied: google-auth-oauthlib<0.5,>=0.4.1 in /opt/conda/lib/python3.7/site-packages (from tensorboard~=2.6->tensorflow>=1.12.1->witwidget) (0.4.6)\n",
      "Requirement already satisfied: notebook>=4.4.1 in /opt/conda/lib/python3.7/site-packages (from widgetsnbextension~=3.5.0->ipywidgets>=7.0.0->witwidget) (6.4.6)\n",
      "Requirement already satisfied: requests-oauthlib>=0.7.0 in /opt/conda/lib/python3.7/site-packages (from google-auth-oauthlib<0.5,>=0.4.1->tensorboard~=2.6->tensorflow>=1.12.1->witwidget) (1.3.0)\n",
      "Requirement already satisfied: zipp>=0.5 in /opt/conda/lib/python3.7/site-packages (from importlib-metadata<5->ipykernel>=4.5.1->ipywidgets>=7.0.0->witwidget) (3.6.0)\n",
      "Requirement already satisfied: parso<0.9.0,>=0.8.0 in /opt/conda/lib/python3.7/site-packages (from jedi>=0.16->ipython>=4.0.0->ipywidgets>=7.0.0->witwidget) (0.8.3)\n",
      "Requirement already satisfied: pyrsistent!=0.17.0,!=0.17.1,!=0.17.2,>=0.14.0 in /opt/conda/lib/python3.7/site-packages (from jsonschema!=2.5.0,>=2.4->nbformat>=4.2.0->ipywidgets>=7.0.0->witwidget) (0.18.0)\n",
      "Requirement already satisfied: attrs>=17.4.0 in /opt/conda/lib/python3.7/site-packages (from jsonschema!=2.5.0,>=2.4->nbformat>=4.2.0->ipywidgets>=7.0.0->witwidget) (21.2.0)\n",
      "Requirement already satisfied: importlib-resources>=1.4.0 in /opt/conda/lib/python3.7/site-packages (from jsonschema!=2.5.0,>=2.4->nbformat>=4.2.0->ipywidgets>=7.0.0->witwidget) (5.4.0)\n",
      "Requirement already satisfied: nest-asyncio>=1.5 in /opt/conda/lib/python3.7/site-packages (from jupyter-client<8.0->ipykernel>=4.5.1->ipywidgets>=7.0.0->witwidget) (1.5.4)\n",
      "Requirement already satisfied: entrypoints in /opt/conda/lib/python3.7/site-packages (from jupyter-client<8.0->ipykernel>=4.5.1->ipywidgets>=7.0.0->witwidget) (0.3)\n",
      "Requirement already satisfied: python-dateutil>=2.1 in /opt/conda/lib/python3.7/site-packages (from jupyter-client<8.0->ipykernel>=4.5.1->ipywidgets>=7.0.0->witwidget) (2.8.2)\n",
      "Requirement already satisfied: pyzmq>=13 in /opt/conda/lib/python3.7/site-packages (from jupyter-client<8.0->ipykernel>=4.5.1->ipywidgets>=7.0.0->witwidget) (22.3.0)\n",
      "Requirement already satisfied: argon2-cffi in /opt/conda/lib/python3.7/site-packages (from notebook>=4.4.1->widgetsnbextension~=3.5.0->ipywidgets>=7.0.0->witwidget) (21.1.0)\n",
      "Requirement already satisfied: prometheus-client in /opt/conda/lib/python3.7/site-packages (from notebook>=4.4.1->widgetsnbextension~=3.5.0->ipywidgets>=7.0.0->witwidget) (0.12.0)\n",
      "Requirement already satisfied: nbconvert in /opt/conda/lib/python3.7/site-packages (from notebook>=4.4.1->widgetsnbextension~=3.5.0->ipywidgets>=7.0.0->witwidget) (6.3.0)\n",
      "Requirement already satisfied: jinja2 in /opt/conda/lib/python3.7/site-packages (from notebook>=4.4.1->widgetsnbextension~=3.5.0->ipywidgets>=7.0.0->witwidget) (3.0.3)\n",
      "Requirement already satisfied: Send2Trash>=1.8.0 in /opt/conda/lib/python3.7/site-packages (from notebook>=4.4.1->widgetsnbextension~=3.5.0->ipywidgets>=7.0.0->witwidget) (1.8.0)\n",
      "Requirement already satisfied: terminado>=0.8.3 in /opt/conda/lib/python3.7/site-packages (from notebook>=4.4.1->widgetsnbextension~=3.5.0->ipywidgets>=7.0.0->witwidget) (0.12.1)\n",
      "Requirement already satisfied: ptyprocess>=0.5 in /opt/conda/lib/python3.7/site-packages (from pexpect>4.3->ipython>=4.0.0->ipywidgets>=7.0.0->witwidget) (0.7.0)\n",
      "Requirement already satisfied: wcwidth in /opt/conda/lib/python3.7/site-packages (from prompt-toolkit!=3.0.0,!=3.0.1,<3.1.0,>=2.0.0->ipython>=4.0.0->ipywidgets>=7.0.0->witwidget) (0.2.5)\n",
      "Requirement already satisfied: idna<4,>=2.5 in /opt/conda/lib/python3.7/site-packages (from requests<3.0.0dev,>=2.18.0->google-api-core<3.0.0dev,>=1.21.0->google-api-python-client>=1.7.8->witwidget) (3.1)\n",
      "Requirement already satisfied: certifi>=2017.4.17 in /opt/conda/lib/python3.7/site-packages (from requests<3.0.0dev,>=2.18.0->google-api-core<3.0.0dev,>=1.21.0->google-api-python-client>=1.7.8->witwidget) (2021.10.8)\n",
      "Requirement already satisfied: urllib3<1.27,>=1.21.1 in /opt/conda/lib/python3.7/site-packages (from requests<3.0.0dev,>=2.18.0->google-api-core<3.0.0dev,>=1.21.0->google-api-python-client>=1.7.8->witwidget) (1.26.7)\n",
      "Requirement already satisfied: charset-normalizer~=2.0.0 in /opt/conda/lib/python3.7/site-packages (from requests<3.0.0dev,>=2.18.0->google-api-core<3.0.0dev,>=1.21.0->google-api-python-client>=1.7.8->witwidget) (2.0.9)\n",
      "Requirement already satisfied: oauthlib>=3.0.0 in /opt/conda/lib/python3.7/site-packages (from requests-oauthlib>=0.7.0->google-auth-oauthlib<0.5,>=0.4.1->tensorboard~=2.6->tensorflow>=1.12.1->witwidget) (3.1.1)\n",
      "Requirement already satisfied: cffi>=1.0.0 in /opt/conda/lib/python3.7/site-packages (from argon2-cffi->notebook>=4.4.1->widgetsnbextension~=3.5.0->ipywidgets>=7.0.0->witwidget) (1.15.0)\n",
      "Requirement already satisfied: MarkupSafe>=2.0 in /opt/conda/lib/python3.7/site-packages (from jinja2->notebook>=4.4.1->widgetsnbextension~=3.5.0->ipywidgets>=7.0.0->witwidget) (2.0.1)\n",
      "Requirement already satisfied: testpath in /opt/conda/lib/python3.7/site-packages (from nbconvert->notebook>=4.4.1->widgetsnbextension~=3.5.0->ipywidgets>=7.0.0->witwidget) (0.5.0)\n",
      "Requirement already satisfied: defusedxml in /opt/conda/lib/python3.7/site-packages (from nbconvert->notebook>=4.4.1->widgetsnbextension~=3.5.0->ipywidgets>=7.0.0->witwidget) (0.7.1)\n",
      "Requirement already satisfied: pandocfilters>=1.4.1 in /opt/conda/lib/python3.7/site-packages (from nbconvert->notebook>=4.4.1->widgetsnbextension~=3.5.0->ipywidgets>=7.0.0->witwidget) (1.5.0)\n",
      "Requirement already satisfied: mistune<2,>=0.8.1 in /opt/conda/lib/python3.7/site-packages (from nbconvert->notebook>=4.4.1->widgetsnbextension~=3.5.0->ipywidgets>=7.0.0->witwidget) (0.8.4)\n",
      "Requirement already satisfied: nbclient<0.6.0,>=0.5.0 in /opt/conda/lib/python3.7/site-packages (from nbconvert->notebook>=4.4.1->widgetsnbextension~=3.5.0->ipywidgets>=7.0.0->witwidget) (0.5.9)\n",
      "Requirement already satisfied: jupyterlab-pygments in /opt/conda/lib/python3.7/site-packages (from nbconvert->notebook>=4.4.1->widgetsnbextension~=3.5.0->ipywidgets>=7.0.0->witwidget) (0.1.2)\n",
      "Requirement already satisfied: bleach in /opt/conda/lib/python3.7/site-packages (from nbconvert->notebook>=4.4.1->widgetsnbextension~=3.5.0->ipywidgets>=7.0.0->witwidget) (4.1.0)\n",
      "Requirement already satisfied: pycparser in /opt/conda/lib/python3.7/site-packages (from cffi>=1.0.0->argon2-cffi->notebook>=4.4.1->widgetsnbextension~=3.5.0->ipywidgets>=7.0.0->witwidget) (2.21)\n",
      "Requirement already satisfied: packaging in /opt/conda/lib/python3.7/site-packages (from bleach->nbconvert->notebook>=4.4.1->widgetsnbextension~=3.5.0->ipywidgets>=7.0.0->witwidget) (21.3)\n",
      "Requirement already satisfied: webencodings in /opt/conda/lib/python3.7/site-packages (from bleach->nbconvert->notebook>=4.4.1->widgetsnbextension~=3.5.0->ipywidgets>=7.0.0->witwidget) (0.5.1)\n",
      "Requirement already satisfied: wheel in /opt/conda/lib/python3.7/site-packages (0.37.0)\n",
      "Requirement already satisfied: pandas in /opt/conda/lib/python3.7/site-packages (1.3.5)\n",
      "Requirement already satisfied: python-dateutil>=2.7.3 in /opt/conda/lib/python3.7/site-packages (from pandas) (2.8.2)\n",
      "Requirement already satisfied: pytz>=2017.3 in /opt/conda/lib/python3.7/site-packages (from pandas) (2021.3)\n",
      "Requirement already satisfied: numpy>=1.17.3 in /opt/conda/lib/python3.7/site-packages (from pandas) (1.19.5)\n",
      "Requirement already satisfied: six>=1.5 in /opt/conda/lib/python3.7/site-packages (from python-dateutil>=2.7.3->pandas) (1.16.0)\n"
     ]
    }
   ],
   "source": [
    "! pip install --user --upgrade google-cloud-aiplatform\n",
    "! pip install --user xgboost==1.2\n",
    "! pip install --user witwidget\n",
    "! pip install --user wheel\n",
    "! pip install --user pandas"
   ]
  },
  {
   "cell_type": "markdown",
   "metadata": {},
   "source": [
    "Download the file from Joshua's bucket."
   ]
  },
  {
   "cell_type": "code",
   "execution_count": 4,
   "metadata": {},
   "outputs": [],
   "source": [
    "csvfile='fraud-header-withy.csv'\n",
    "gs_csvfile = f'gs://joshuafraud/{csvfile}' \n",
    "if not os.path.exists(csvfile):\n",
    "  !gsutil cp $gs_csvfile ."
   ]
  },
  {
   "cell_type": "code",
   "execution_count": 5,
   "metadata": {},
   "outputs": [
    {
     "name": "stderr",
     "output_type": "stream",
     "text": [
      "2021-12-26 12:19:12.375716: W tensorflow/stream_executor/platform/default/dso_loader.cc:64] Could not load dynamic library 'libcudart.so.11.0'; dlerror: libcudart.so.11.0: cannot open shared object file: No such file or directory\n",
      "2021-12-26 12:19:12.375765: I tensorflow/stream_executor/cuda/cudart_stub.cc:29] Ignore above cudart dlerror if you do not have a GPU set up on your machine.\n"
     ]
    }
   ],
   "source": [
    "import pandas as pd\n",
    "import xgboost as xgb\n",
    "import numpy as np\n",
    "import collections\n",
    "import witwidget\n",
    "import datetime\n",
    "import json\n",
    "\n",
    "from google.cloud import aiplatform\n",
    "\n",
    "from sklearn.model_selection import train_test_split\n",
    "from sklearn.metrics import balanced_accuracy_score, confusion_matrix\n",
    "from sklearn.utils import shuffle\n",
    "from witwidget.notebook.visualization import WitWidget, WitConfigBuilder"
   ]
  },
  {
   "cell_type": "markdown",
   "metadata": {
    "id": "8HCgeF8had77"
   },
   "source": [
    "In Google Cloud Notebooks, you are already authenticated."
   ]
  },
  {
   "cell_type": "code",
   "execution_count": 6,
   "metadata": {
    "id": "8HCgeF8had77"
   },
   "outputs": [],
   "source": [
    "REGION = \"us-west1\"  \n",
    " \n",
    "shell_output = !gcloud config get-value project\n",
    "PROJECT_ID = shell_output[0]\n",
    "assert PROJECT_ID"
   ]
  },
  {
   "cell_type": "markdown",
   "metadata": {
    "id": "8HCgeF8had77"
   },
   "source": [
    "New Study ID each time to avoid collisions."
   ]
  },
  {
   "cell_type": "code",
   "execution_count": 7,
   "metadata": {
    "id": "8HCgeF8had77"
   },
   "outputs": [
    {
     "name": "stdout",
     "output_type": "stream",
     "text": [
      "ENDPOINT us-west1-aiplatform.googleapis.com REGION us-west1 PARENT projects/joshua-playground/locations/us-west1 PROJECT_ID joshua-playground\n"
     ]
    }
   ],
   "source": [
    "proj = PROJECT_ID.replace(\"-\", \"\")\n",
    "date_s= datetime.datetime.now().strftime(\"%Y%m%d_%H%M%S\")\n",
    "STUDY_DISPLAY_NAME = f\"{proj}_study_{date_s}\"\n",
    "ENDPOINT = REGION + \"-aiplatform.googleapis.com\"\n",
    "PARENT = f\"projects/{PROJECT_ID}/locations/{REGION}\"\n",
    "\n",
    "print(\"ENDPOINT\", ENDPOINT,\"REGION\", REGION, \"PARENT\", PARENT,\"PROJECT_ID\", PROJECT_ID)"
   ]
  },
  {
   "cell_type": "markdown",
   "metadata": {
    "id": "s-AHfPOASXXW"
   },
   "source": [
    "This is ordinary setup for a ML training job. "
   ]
  },
  {
   "cell_type": "code",
   "execution_count": 8,
   "metadata": {
    "id": "s-AHfPOASXXW"
   },
   "outputs": [],
   "source": [
    "#[0]\n",
    "COLUMN_NAMES =  {\n",
    "    \"isFraud\": np.int8,\n",
    "    \"type_CASH_IN\": np.int8,\n",
    "    \"type_CASH_OUT\": np.int8,\n",
    "    \"type_DEBIT\": np.int8,\n",
    "    \"type_PAYMENT\": np.int8,\n",
    "    \"type_TRANSFER\": np.int8,\n",
    "    \"amount_nml\": np.float64,\n",
    "    \"oldBalanceOrigin_nml\": np.float64,\n",
    "    \"newBalanceOrigin_nml\": np.float64,\n",
    "    \"oldBalanceDestination_nml\": np.float64,\n",
    "    \"newBalanceDestination_nml\": np.float64,\n",
    "    \"peakHours\":np.int8\n",
    "}"
   ]
  },
  {
   "cell_type": "code",
   "execution_count": 9,
   "metadata": {
    "id": "s-AHfPOASXXW"
   },
   "outputs": [
    {
     "data": {
      "text/html": [
       "<div>\n",
       "<style scoped>\n",
       "    .dataframe tbody tr th:only-of-type {\n",
       "        vertical-align: middle;\n",
       "    }\n",
       "\n",
       "    .dataframe tbody tr th {\n",
       "        vertical-align: top;\n",
       "    }\n",
       "\n",
       "    .dataframe thead th {\n",
       "        text-align: right;\n",
       "    }\n",
       "</style>\n",
       "<table border=\"1\" class=\"dataframe\">\n",
       "  <thead>\n",
       "    <tr style=\"text-align: right;\">\n",
       "      <th></th>\n",
       "      <th>isFraud</th>\n",
       "      <th>type_CASH_IN</th>\n",
       "      <th>type_CASH_OUT</th>\n",
       "      <th>type_DEBIT</th>\n",
       "      <th>type_PAYMENT</th>\n",
       "      <th>type_TRANSFER</th>\n",
       "      <th>amount_nml</th>\n",
       "      <th>oldBalanceOrigin_nml</th>\n",
       "      <th>newBalanceOrigin_nml</th>\n",
       "      <th>oldBalanceDestination_nml</th>\n",
       "      <th>newBalanceDestination_nml</th>\n",
       "      <th>peakHours</th>\n",
       "    </tr>\n",
       "  </thead>\n",
       "  <tbody>\n",
       "    <tr>\n",
       "      <th>4801897</th>\n",
       "      <td>0</td>\n",
       "      <td>0</td>\n",
       "      <td>1</td>\n",
       "      <td>0</td>\n",
       "      <td>0</td>\n",
       "      <td>0</td>\n",
       "      <td>0.070289</td>\n",
       "      <td>-0.282140</td>\n",
       "      <td>-0.292442</td>\n",
       "      <td>-0.323814</td>\n",
       "      <td>-0.272905</td>\n",
       "      <td>0</td>\n",
       "    </tr>\n",
       "    <tr>\n",
       "      <th>2779475</th>\n",
       "      <td>0</td>\n",
       "      <td>0</td>\n",
       "      <td>1</td>\n",
       "      <td>0</td>\n",
       "      <td>0</td>\n",
       "      <td>0</td>\n",
       "      <td>0.324777</td>\n",
       "      <td>-0.284135</td>\n",
       "      <td>-0.292442</td>\n",
       "      <td>-0.323814</td>\n",
       "      <td>-0.231079</td>\n",
       "      <td>0</td>\n",
       "    </tr>\n",
       "    <tr>\n",
       "      <th>784465</th>\n",
       "      <td>0</td>\n",
       "      <td>0</td>\n",
       "      <td>1</td>\n",
       "      <td>0</td>\n",
       "      <td>0</td>\n",
       "      <td>0</td>\n",
       "      <td>-0.105303</td>\n",
       "      <td>-0.276696</td>\n",
       "      <td>-0.292442</td>\n",
       "      <td>-0.323814</td>\n",
       "      <td>-0.319018</td>\n",
       "      <td>0</td>\n",
       "    </tr>\n",
       "    <tr>\n",
       "      <th>5635648</th>\n",
       "      <td>0</td>\n",
       "      <td>0</td>\n",
       "      <td>1</td>\n",
       "      <td>0</td>\n",
       "      <td>0</td>\n",
       "      <td>0</td>\n",
       "      <td>-0.211367</td>\n",
       "      <td>-0.288381</td>\n",
       "      <td>-0.292442</td>\n",
       "      <td>-0.323814</td>\n",
       "      <td>-0.307404</td>\n",
       "      <td>0</td>\n",
       "    </tr>\n",
       "    <tr>\n",
       "      <th>301298</th>\n",
       "      <td>0</td>\n",
       "      <td>1</td>\n",
       "      <td>0</td>\n",
       "      <td>0</td>\n",
       "      <td>0</td>\n",
       "      <td>0</td>\n",
       "      <td>-0.101613</td>\n",
       "      <td>5.590381</td>\n",
       "      <td>5.555191</td>\n",
       "      <td>-0.095958</td>\n",
       "      <td>0.011459</td>\n",
       "      <td>0</td>\n",
       "    </tr>\n",
       "  </tbody>\n",
       "</table>\n",
       "</div>"
      ],
      "text/plain": [
       "         isFraud  type_CASH_IN  type_CASH_OUT  type_DEBIT  type_PAYMENT  \\\n",
       "4801897        0             0              1           0             0   \n",
       "2779475        0             0              1           0             0   \n",
       "784465         0             0              1           0             0   \n",
       "5635648        0             0              1           0             0   \n",
       "301298         0             1              0           0             0   \n",
       "\n",
       "         type_TRANSFER  amount_nml  oldBalanceOrigin_nml  \\\n",
       "4801897              0    0.070289             -0.282140   \n",
       "2779475              0    0.324777             -0.284135   \n",
       "784465               0   -0.105303             -0.276696   \n",
       "5635648              0   -0.211367             -0.288381   \n",
       "301298               0   -0.101613              5.590381   \n",
       "\n",
       "         newBalanceOrigin_nml  oldBalanceDestination_nml  \\\n",
       "4801897             -0.292442                  -0.323814   \n",
       "2779475             -0.292442                  -0.323814   \n",
       "784465              -0.292442                  -0.323814   \n",
       "5635648             -0.292442                  -0.323814   \n",
       "301298               5.555191                  -0.095958   \n",
       "\n",
       "         newBalanceDestination_nml  peakHours  \n",
       "4801897                  -0.272905          0  \n",
       "2779475                  -0.231079          0  \n",
       "784465                   -0.319018          0  \n",
       "5635648                  -0.307404          0  \n",
       "301298                    0.011459          0  "
      ]
     },
     "execution_count": 9,
     "metadata": {},
     "output_type": "execute_result"
    }
   ],
   "source": [
    "data = pd.read_csv(\n",
    "  csvfile,\n",
    "  index_col=None,\n",
    "  dtype=COLUMN_NAMES\n",
    ")\n",
    "data = data.dropna()\n",
    "data = shuffle(data, random_state=2)\n",
    "\n",
    "data.head()"
   ]
  },
  {
   "cell_type": "code",
   "execution_count": 10,
   "metadata": {
    "id": "s-AHfPOASXXW"
   },
   "outputs": [
    {
     "data": {
      "text/html": [
       "<div>\n",
       "<style scoped>\n",
       "    .dataframe tbody tr th:only-of-type {\n",
       "        vertical-align: middle;\n",
       "    }\n",
       "\n",
       "    .dataframe tbody tr th {\n",
       "        vertical-align: top;\n",
       "    }\n",
       "\n",
       "    .dataframe thead th {\n",
       "        text-align: right;\n",
       "    }\n",
       "</style>\n",
       "<table border=\"1\" class=\"dataframe\">\n",
       "  <thead>\n",
       "    <tr style=\"text-align: right;\">\n",
       "      <th></th>\n",
       "      <th>type_CASH_IN</th>\n",
       "      <th>type_CASH_OUT</th>\n",
       "      <th>type_DEBIT</th>\n",
       "      <th>type_PAYMENT</th>\n",
       "      <th>type_TRANSFER</th>\n",
       "      <th>amount_nml</th>\n",
       "      <th>oldBalanceOrigin_nml</th>\n",
       "      <th>newBalanceOrigin_nml</th>\n",
       "      <th>oldBalanceDestination_nml</th>\n",
       "      <th>newBalanceDestination_nml</th>\n",
       "      <th>peakHours</th>\n",
       "    </tr>\n",
       "  </thead>\n",
       "  <tbody>\n",
       "    <tr>\n",
       "      <th>4801897</th>\n",
       "      <td>0</td>\n",
       "      <td>1</td>\n",
       "      <td>0</td>\n",
       "      <td>0</td>\n",
       "      <td>0</td>\n",
       "      <td>0.070289</td>\n",
       "      <td>-0.282140</td>\n",
       "      <td>-0.292442</td>\n",
       "      <td>-0.323814</td>\n",
       "      <td>-0.272905</td>\n",
       "      <td>0</td>\n",
       "    </tr>\n",
       "    <tr>\n",
       "      <th>2779475</th>\n",
       "      <td>0</td>\n",
       "      <td>1</td>\n",
       "      <td>0</td>\n",
       "      <td>0</td>\n",
       "      <td>0</td>\n",
       "      <td>0.324777</td>\n",
       "      <td>-0.284135</td>\n",
       "      <td>-0.292442</td>\n",
       "      <td>-0.323814</td>\n",
       "      <td>-0.231079</td>\n",
       "      <td>0</td>\n",
       "    </tr>\n",
       "    <tr>\n",
       "      <th>784465</th>\n",
       "      <td>0</td>\n",
       "      <td>1</td>\n",
       "      <td>0</td>\n",
       "      <td>0</td>\n",
       "      <td>0</td>\n",
       "      <td>-0.105303</td>\n",
       "      <td>-0.276696</td>\n",
       "      <td>-0.292442</td>\n",
       "      <td>-0.323814</td>\n",
       "      <td>-0.319018</td>\n",
       "      <td>0</td>\n",
       "    </tr>\n",
       "    <tr>\n",
       "      <th>5635648</th>\n",
       "      <td>0</td>\n",
       "      <td>1</td>\n",
       "      <td>0</td>\n",
       "      <td>0</td>\n",
       "      <td>0</td>\n",
       "      <td>-0.211367</td>\n",
       "      <td>-0.288381</td>\n",
       "      <td>-0.292442</td>\n",
       "      <td>-0.323814</td>\n",
       "      <td>-0.307404</td>\n",
       "      <td>0</td>\n",
       "    </tr>\n",
       "    <tr>\n",
       "      <th>301298</th>\n",
       "      <td>1</td>\n",
       "      <td>0</td>\n",
       "      <td>0</td>\n",
       "      <td>0</td>\n",
       "      <td>0</td>\n",
       "      <td>-0.101613</td>\n",
       "      <td>5.590381</td>\n",
       "      <td>5.555191</td>\n",
       "      <td>-0.095958</td>\n",
       "      <td>0.011459</td>\n",
       "      <td>0</td>\n",
       "    </tr>\n",
       "  </tbody>\n",
       "</table>\n",
       "</div>"
      ],
      "text/plain": [
       "         type_CASH_IN  type_CASH_OUT  type_DEBIT  type_PAYMENT  type_TRANSFER  \\\n",
       "4801897             0              1           0             0              0   \n",
       "2779475             0              1           0             0              0   \n",
       "784465              0              1           0             0              0   \n",
       "5635648             0              1           0             0              0   \n",
       "301298              1              0           0             0              0   \n",
       "\n",
       "         amount_nml  oldBalanceOrigin_nml  newBalanceOrigin_nml  \\\n",
       "4801897    0.070289             -0.282140             -0.292442   \n",
       "2779475    0.324777             -0.284135             -0.292442   \n",
       "784465    -0.105303             -0.276696             -0.292442   \n",
       "5635648   -0.211367             -0.288381             -0.292442   \n",
       "301298    -0.101613              5.590381              5.555191   \n",
       "\n",
       "         oldBalanceDestination_nml  newBalanceDestination_nml  peakHours  \n",
       "4801897                  -0.323814                  -0.272905          0  \n",
       "2779475                  -0.323814                  -0.231079          0  \n",
       "784465                   -0.323814                  -0.319018          0  \n",
       "5635648                  -0.323814                  -0.307404          0  \n",
       "301298                   -0.095958                   0.011459          0  "
      ]
     },
     "execution_count": 10,
     "metadata": {},
     "output_type": "execute_result"
    }
   ],
   "source": [
    "labels = data['isFraud'].values\n",
    "data = data.drop(columns=['isFraud'])\n",
    "data.head()"
   ]
  },
  {
   "cell_type": "code",
   "execution_count": 11,
   "metadata": {
    "id": "s-AHfPOASXXW"
   },
   "outputs": [
    {
     "name": "stdout",
     "output_type": "stream",
     "text": [
      "length of data 6362620\n"
     ]
    }
   ],
   "source": [
    "print(\"length of data\", len(data))"
   ]
  },
  {
   "cell_type": "markdown",
   "metadata": {
    "id": "s-AHfPOASXXW"
   },
   "source": [
    "Define hyperparameters"
   ]
  },
  {
   "cell_type": "code",
   "execution_count": 12,
   "metadata": {
    "id": "s-AHfPOASXXW"
   },
   "outputs": [],
   "source": [
    "#[1]\n",
    "# eta is learning rate\n",
    "param_eta = {\"parameter_id\": \"eta\", \"double_value_spec\": {\"min_value\": 0, \"max_value\": 1}}\n",
    "param_min_child_weight = {\"parameter_id\": \"min_child_weight\", \"double_value_spec\": {\"min_value\": 0, \"max_value\": 3}}\n",
    "# Alpha is L1 regularization term on weights\n",
    "param_alpha = {\"parameter_id\": \"alpha\", \"double_value_spec\": {\"min_value\": 0, \"max_value\": 3}}\n",
    "param_max_depth = {\"parameter_id\": \"max_depth\", \"integer_value_spec\": {\"min_value\": 3, \"max_value\": 9}}"
   ]
  },
  {
   "cell_type": "markdown",
   "metadata": {
    "id": "s-AHfPOASXXW"
   },
   "source": [
    "Because it is an unbalanced dataset, we use Balanced Accuracy as our target metric: The Average of recall on each class (positive and negative)."
   ]
  },
  {
   "cell_type": "code",
   "execution_count": 13,
   "metadata": {
    "id": "s-AHfPOASXXW"
   },
   "outputs": [],
   "source": [
    "#[2]\n",
    "balanced_accuracy = {\"metric_id\": \"balanced_accuracy\", \"goal\": \"MAXIMIZE\"}\n",
    "parameter_defs=[  param_eta,param_min_child_weight,param_alpha,param_max_depth ]\n",
    "study = {\n",
    "    \"display_name\": STUDY_DISPLAY_NAME,\n",
    "    \"study_spec\": {\n",
    "        \"algorithm\": \"ALGORITHM_UNSPECIFIED\",\n",
    "        \"parameters\": parameter_defs,\n",
    "        \"metrics\": [balanced_accuracy],\n",
    "    },\n",
    "}"
   ]
  },
  {
   "cell_type": "markdown",
   "metadata": {
    "id": "jgskzqZX0Mkt"
   },
   "source": [
    "Here we have a Python class specific to the API."
   ]
  },
  {
   "cell_type": "code",
   "execution_count": 14,
   "metadata": {
    "id": "jgskzqZX0Mkt"
   },
   "outputs": [],
   "source": [
    "#[3]\n",
    "vizier_client = aiplatform.gapic.VizierServiceClient(client_options=dict(api_endpoint=ENDPOINT))\n",
    "study = vizier_client.create_study(parent=PARENT, study=study)"
   ]
  },
  {
   "cell_type": "markdown",
   "metadata": {
    "id": "Xnl1uqnyz3Qp"
   },
   "source": [
    "\"Creating the metric\" (balanced accuracy) actually means running an entire training job."
   ]
  },
  {
   "cell_type": "code",
   "execution_count": 15,
   "metadata": {
    "id": "Xnl1uqnyz3Qp"
   },
   "outputs": [],
   "source": [
    "#[7]\n",
    "def create_metric(trial_id, params, data, labels):\n",
    "    print(round(time()-start,1), f\"seconds elapsed; Trial #{trial_id.split('/')[-1]}:\" , params )\n",
    "\n",
    "    x,y = data.values, labels\n",
    "    x_train, x_test, y_train, y_test = train_test_split(x,y)\n",
    "\n",
    "    model = xgb.XGBClassifier(objective='reg:logistic',   **params)\n",
    "\n",
    "    model.fit(x_train, y_train)\n",
    "    #[8]\n",
    "    y_pred = model.predict(x_test)\n",
    "    balanced_accuracy = balanced_accuracy_score(y_test, y_pred.round())\n",
    "    print(\"balanced_accuracy\", balanced_accuracy)\n",
    "    \n",
    "    balanced_accuracy_metric = {\"metric_id\": \"balanced_accuracy\", \"value\": balanced_accuracy}\n",
    " \n",
    "    return [balanced_accuracy_metric]"
   ]
  },
  {
   "cell_type": "code",
   "execution_count": 16,
   "metadata": {
    "id": "opmuTntW4-eS"
   },
   "outputs": [],
   "source": [
    "def trial_params_to_dict_with_rounded_ints(trial_params):\n",
    "    ret = {}\n",
    "    int_params = { p[\"parameter_id\"] for p in parameter_defs if \"integer_value_spec\" in p  }\n",
    "    for p in trial_params:\n",
    "        if p.parameter_id in int_params:\n",
    "            ret[p.parameter_id] = int(round(p.value))\n",
    "        else:\n",
    "            ret[p.parameter_id]=p.value\n",
    "    return ret      "
   ]
  },
  {
   "cell_type": "markdown",
   "metadata": {
    "id": "opmuTntW4-eS"
   },
   "source": [
    "Run a batch of suggested trials."
   ]
  },
  {
   "cell_type": "code",
   "execution_count": 17,
   "metadata": {
    "id": "opmuTntW4-eS"
   },
   "outputs": [],
   "source": [
    "#[5]\n",
    "def do_trials(trial_id, client_id, suggestions_per_request, study_name):\n",
    "    suggest_response = vizier_client.suggest_trials(\n",
    "        {\n",
    "            \"parent\": study_name,\n",
    "            \"suggestion_count\": suggestions_per_request,\n",
    "            \"client_id\": client_id,\n",
    "        }\n",
    "    )\n",
    "\n",
    "    for suggested_trial in suggest_response.result().trials:\n",
    "        trial_id = suggested_trial.name.split(\"/\")[-1]\n",
    "        trial = vizier_client.get_trial({\"name\": suggested_trial.name})\n",
    "\n",
    "        if trial.state in [\"COMPLETED\", \"INFEASIBLE\"]:\n",
    "            continue\n",
    "        \n",
    "        parameters = trial_params_to_dict_with_rounded_ints(trial.parameters) \n",
    "        \n",
    "        tries = 0\n",
    "        while tries < 3:\n",
    "            tries +=1\n",
    "            try:\n",
    "                vizier_client.add_trial_measurement(\n",
    "                        {\n",
    "                            \"trial_name\": suggested_trial.name,\n",
    "    \n",
    "                            \"measurement\": {\n",
    "                                \"metrics\": create_metric(suggested_trial.name, parameters, data, labels)  #[6]\n",
    "                            },\n",
    "                        }\n",
    "                    )\n",
    "            except Exception as e:\n",
    "                print(\"Try number\", tries, \"failed\", e)\n",
    "                time.sleep(2**tries)#exp backoff\n",
    "                \n",
    "        response = vizier_client.complete_trial(\n",
    "                {\"name\": suggested_trial.name, \"trial_infeasible\": False} )\n",
    "        \n",
    "        \n",
    "    return trial_id"
   ]
  },
  {
   "cell_type": "markdown",
   "metadata": {
    "id": "opmuTntW4-eS"
   },
   "source": [
    "Because Vizier stores trials in a database, you may want to distinguish multiple clients interacting with it."
   ]
  },
  {
   "cell_type": "code",
   "execution_count": 18,
   "metadata": {
    "id": "opmuTntW4-eS"
   },
   "outputs": [],
   "source": [
    "client_id = \"client1\"  "
   ]
  },
  {
   "cell_type": "markdown",
   "metadata": {
    "id": "opmuTntW4-eS"
   },
   "source": [
    "Beware! Like all ML training, this can get expensive, so limit the number of suggestions from Vizier per request, and the total number of trials, as set in the variables below."
   ]
  },
  {
   "cell_type": "code",
   "execution_count": 19,
   "metadata": {
    "id": "opmuTntW4-eS"
   },
   "outputs": [],
   "source": [
    "suggestions_per_request = 1\n",
    "trials_to_do = 2"
   ]
  },
  {
   "cell_type": "code",
   "execution_count": 19,
   "metadata": {
    "id": "opmuTntW4-eS"
   },
   "outputs": [
    {
     "name": "stdout",
     "output_type": "stream",
     "text": [
      "client_id: client1 , suggestion_count_per_request: 1 , trials_to_do: 2\n"
     ]
    }
   ],
   "source": [
    "print(\"client_id:\", client_id, \", suggestion_count_per_request:\", suggestions_per_request, \", trials_to_do:\", trials_to_do)\n",
    "print(\"Before running trials\", round(time()-start,1), \"seconds elapsed\")"
   ]
  },
  {
   "cell_type": "markdown",
   "metadata": {
    "id": "opmuTntW4-eS"
   },
   "source": [
    "Outer loop: Get suggestions from Vizier repeatedly until we have enough trials. "
   ]
  },
  {
   "cell_type": "code",
   "execution_count": 21,
   "metadata": {
    "id": "opmuTntW4-eS"
   },
   "outputs": [
    {
     "name": "stdout",
     "output_type": "stream",
     "text": [
      "25.4 seconds elapsed; Trial #1: {'alpha': 1.5, 'eta': 0.5, 'max_depth': 6, 'min_child_weight': 1.5}\n",
      "[12:19:30] WARNING: ../src/gbm/gbtree.cc:139: Tree method is automatically selected to be 'approx' for faster speed. To use old behavior (exact greedy algorithm on single machine), set tree_method to 'exact'.\n",
      "balanced_accuracy 0.9268996320227156\n",
      "464.3 seconds elapsed; Trial #1: {'alpha': 1.5, 'eta': 0.5, 'max_depth': 6, 'min_child_weight': 1.5}\n",
      "[12:26:49] WARNING: ../src/gbm/gbtree.cc:139: Tree method is automatically selected to be 'approx' for faster speed. To use old behavior (exact greedy algorithm on single machine), set tree_method to 'exact'.\n",
      "balanced_accuracy 0.9294196162867241\n",
      "878.8 seconds elapsed; Trial #1: {'alpha': 1.5, 'eta': 0.5, 'max_depth': 6, 'min_child_weight': 1.5}\n",
      "[12:33:43] WARNING: ../src/gbm/gbtree.cc:139: Tree method is automatically selected to be 'approx' for faster speed. To use old behavior (exact greedy algorithm on single machine), set tree_method to 'exact'.\n",
      "balanced_accuracy 0.9269447325957195\n",
      "1298.6 seconds elapsed; Trial #2: {'alpha': 2.135904004004592, 'eta': 0.4630913399905392, 'max_depth': 8, 'min_child_weight': 2.1357746227218115}\n",
      "[12:40:43] WARNING: ../src/gbm/gbtree.cc:139: Tree method is automatically selected to be 'approx' for faster speed. To use old behavior (exact greedy algorithm on single machine), set tree_method to 'exact'.\n",
      "balanced_accuracy 0.9314622047207861\n",
      "1846.5 seconds elapsed; Trial #2: {'alpha': 2.135904004004592, 'eta': 0.4630913399905392, 'max_depth': 8, 'min_child_weight': 2.1357746227218115}\n",
      "[12:49:51] WARNING: ../src/gbm/gbtree.cc:139: Tree method is automatically selected to be 'approx' for faster speed. To use old behavior (exact greedy algorithm on single machine), set tree_method to 'exact'.\n",
      "balanced_accuracy 0.9366840852473732\n",
      "2366.5 seconds elapsed; Trial #2: {'alpha': 2.135904004004592, 'eta': 0.4630913399905392, 'max_depth': 8, 'min_child_weight': 2.1357746227218115}\n",
      "[12:58:31] WARNING: ../src/gbm/gbtree.cc:139: Tree method is automatically selected to be 'approx' for faster speed. To use old behavior (exact greedy algorithm on single machine), set tree_method to 'exact'.\n",
      "balanced_accuracy 0.9365132817389556\n"
     ]
    }
   ],
   "source": [
    "trial_id = 0\n",
    "#[4]\n",
    "# trial_id can be string, parsed from the suggested_trial.name, or else an int returned from do_trials()\n",
    "while int(trial_id) < trials_to_do:\n",
    "    trial_id = do_trials(trial_id, client_id,suggestions_per_request, study.name) "
   ]
  },
  {
   "cell_type": "markdown",
   "metadata": {
    "id": "Or2PL1YxTr33"
   },
   "source": [
    "Here we ask Vizier for the best trials (multiple, because it can return multiple best trials, along a Pareto frontier)."
   ]
  },
  {
   "cell_type": "code",
   "execution_count": 22,
   "metadata": {
    "id": "Or2PL1YxTr33"
   },
   "outputs": [
    {
     "name": "stdout",
     "output_type": "stream",
     "text": [
      "optimal_trials: optimal_trials {\n",
      "  name: \"projects/401966870909/locations/us-west1/studies/1816083338154/trials/2\"\n",
      "  state: SUCCEEDED\n",
      "  parameters {\n",
      "    parameter_id: \"alpha\"\n",
      "    value {\n",
      "      number_value: 2.135904004004592\n",
      "    }\n",
      "  }\n",
      "  parameters {\n",
      "    parameter_id: \"eta\"\n",
      "    value {\n",
      "      number_value: 0.4630913399905392\n",
      "    }\n",
      "  }\n",
      "  parameters {\n",
      "    parameter_id: \"max_depth\"\n",
      "    value {\n",
      "      number_value: 8.0\n",
      "    }\n",
      "  }\n",
      "  parameters {\n",
      "    parameter_id: \"min_child_weight\"\n",
      "    value {\n",
      "      number_value: 2.1357746227218115\n",
      "    }\n",
      "  }\n",
      "  final_measurement {\n",
      "    metrics {\n",
      "      metric_id: \"balanced_accuracy\"\n",
      "      value: 0.9365132817389556\n",
      "    }\n",
      "  }\n",
      "  measurements {\n",
      "    metrics {\n",
      "      metric_id: \"balanced_accuracy\"\n",
      "      value: 0.9365132817389556\n",
      "    }\n",
      "  }\n",
      "  start_time {\n",
      "    seconds: 1640522438\n",
      "  }\n",
      "  end_time {\n",
      "    seconds: 1640524015\n",
      "  }\n",
      "  client_id: \"client1\"\n",
      "}\n",
      "\n"
     ]
    }
   ],
   "source": [
    "#[9]\n",
    "optimal_trials = vizier_client.list_optimal_trials({\"parent\": study.name})\n",
    "\n",
    "print(f\"optimal_trials: {optimal_trials}\")"
   ]
  },
  {
   "cell_type": "code",
   "execution_count": 23,
   "metadata": {},
   "outputs": [],
   "source": [
    "#vizier_client.delete_study({\"name\": study.name})"
   ]
  }
 ],
 "metadata": {
  "colab": {
   "collapsed_sections": [],
   "name": "gapic-vizier-multi-objective-optimization.ipynb",
   "toc_visible": true
  },
  "environment": {
   "kernel": "venv3",
   "name": "common-cpu.m87",
   "type": "gcloud",
   "uri": "gcr.io/deeplearning-platform-release/base-cpu:m87"
  },
  "kernelspec": {
   "display_name": "venv3",
   "language": "python",
   "name": "venv3"
  },
  "language_info": {
   "codemirror_mode": {
    "name": "ipython",
    "version": 3
   },
   "file_extension": ".py",
   "mimetype": "text/x-python",
   "name": "python",
   "nbconvert_exporter": "python",
   "pygments_lexer": "ipython3",
   "version": "3.7.12"
  }
 },
 "nbformat": 4,
 "nbformat_minor": 4
}
