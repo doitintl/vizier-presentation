{
 "cells": [
  {
   "cell_type": "markdown",
   "metadata": {
    "colab": {},
    "colab_type": "code",
    "id": "IMVB9pudfEIr"
   },
   "source": [
    "# Using the dynamic AI Platform Vizier API\n",
    "\n",
    "Run this inside a Virtual Environment to isolate the different library versions (and in particular, Tensorflow.\n",
    "\n",
    "__[This](https://janakiev.com/blog/jupyter-virtual-envs/)__ explains how."
   ]
  },
  {
   "cell_type": "code",
   "execution_count": 29,
   "metadata": {
    "colab": {},
    "colab_type": "code",
    "id": "IMVB9pudfEIr"
   },
   "outputs": [],
   "source": [
    "import time \n",
    "start = time.time()"
   ]
  },
  {
   "cell_type": "code",
   "execution_count": 30,
   "metadata": {
    "colab": {},
    "colab_type": "code",
    "id": "IMVB9pudfEIr"
   },
   "outputs": [
    {
     "name": "stdout",
     "output_type": "stream",
     "text": [
      "Requirement already satisfied: google-cloud in /opt/conda/lib/python3.7/site-packages (0.34.0)\n",
      "Requirement already satisfied: google-cloud-storage in /opt/conda/lib/python3.7/site-packages (1.43.0)\n",
      "Requirement already satisfied: google-cloud-core<3.0dev,>=1.6.0 in /opt/conda/lib/python3.7/site-packages (from google-cloud-storage) (2.2.1)\n",
      "Requirement already satisfied: requests<3.0.0dev,>=2.18.0 in /opt/conda/lib/python3.7/site-packages (from google-cloud-storage) (2.26.0)\n",
      "Requirement already satisfied: six in /opt/conda/lib/python3.7/site-packages (from google-cloud-storage) (1.16.0)\n",
      "Requirement already satisfied: google-auth<3.0dev,>=1.25.0 in /opt/conda/lib/python3.7/site-packages (from google-cloud-storage) (2.3.3)\n",
      "Requirement already satisfied: google-api-core<3.0dev,>=1.29.0 in /opt/conda/lib/python3.7/site-packages (from google-cloud-storage) (2.3.2)\n",
      "Requirement already satisfied: protobuf in /opt/conda/lib/python3.7/site-packages (from google-cloud-storage) (3.19.1)\n",
      "Requirement already satisfied: google-resumable-media<3.0dev,>=1.3.0 in /opt/conda/lib/python3.7/site-packages (from google-cloud-storage) (2.1.0)\n",
      "Requirement already satisfied: googleapis-common-protos<2.0dev,>=1.52.0 in /opt/conda/lib/python3.7/site-packages (from google-api-core<3.0dev,>=1.29.0->google-cloud-storage) (1.53.0)\n",
      "Requirement already satisfied: setuptools>=40.3.0 in /opt/conda/lib/python3.7/site-packages (from google-api-core<3.0dev,>=1.29.0->google-cloud-storage) (59.6.0)\n",
      "Requirement already satisfied: pyasn1-modules>=0.2.1 in /opt/conda/lib/python3.7/site-packages (from google-auth<3.0dev,>=1.25.0->google-cloud-storage) (0.2.7)\n",
      "Requirement already satisfied: rsa<5,>=3.1.4 in /opt/conda/lib/python3.7/site-packages (from google-auth<3.0dev,>=1.25.0->google-cloud-storage) (4.8)\n",
      "Requirement already satisfied: cachetools<5.0,>=2.0.0 in /opt/conda/lib/python3.7/site-packages (from google-auth<3.0dev,>=1.25.0->google-cloud-storage) (4.2.4)\n",
      "Requirement already satisfied: google-crc32c<2.0dev,>=1.0 in /opt/conda/lib/python3.7/site-packages (from google-resumable-media<3.0dev,>=1.3.0->google-cloud-storage) (1.1.2)\n",
      "Requirement already satisfied: urllib3<1.27,>=1.21.1 in /opt/conda/lib/python3.7/site-packages (from requests<3.0.0dev,>=2.18.0->google-cloud-storage) (1.26.7)\n",
      "Requirement already satisfied: certifi>=2017.4.17 in /opt/conda/lib/python3.7/site-packages (from requests<3.0.0dev,>=2.18.0->google-cloud-storage) (2021.10.8)\n",
      "Requirement already satisfied: idna<4,>=2.5 in /opt/conda/lib/python3.7/site-packages (from requests<3.0.0dev,>=2.18.0->google-cloud-storage) (3.1)\n",
      "Requirement already satisfied: charset-normalizer~=2.0.0 in /opt/conda/lib/python3.7/site-packages (from requests<3.0.0dev,>=2.18.0->google-cloud-storage) (2.0.9)\n",
      "Requirement already satisfied: cffi>=1.0.0 in /opt/conda/lib/python3.7/site-packages (from google-crc32c<2.0dev,>=1.0->google-resumable-media<3.0dev,>=1.3.0->google-cloud-storage) (1.15.0)\n",
      "Requirement already satisfied: pyasn1<0.5.0,>=0.4.6 in /opt/conda/lib/python3.7/site-packages (from pyasn1-modules>=0.2.1->google-auth<3.0dev,>=1.25.0->google-cloud-storage) (0.4.8)\n",
      "Requirement already satisfied: pycparser in /opt/conda/lib/python3.7/site-packages (from cffi>=1.0.0->google-crc32c<2.0dev,>=1.0->google-resumable-media<3.0dev,>=1.3.0->google-cloud-storage) (2.21)\n",
      "Requirement already satisfied: requests in /opt/conda/lib/python3.7/site-packages (2.26.0)\n",
      "Requirement already satisfied: charset-normalizer~=2.0.0 in /opt/conda/lib/python3.7/site-packages (from requests) (2.0.9)\n",
      "Requirement already satisfied: urllib3<1.27,>=1.21.1 in /opt/conda/lib/python3.7/site-packages (from requests) (1.26.7)\n",
      "Requirement already satisfied: certifi>=2017.4.17 in /opt/conda/lib/python3.7/site-packages (from requests) (2021.10.8)\n",
      "Requirement already satisfied: idna<4,>=2.5 in /opt/conda/lib/python3.7/site-packages (from requests) (3.1)\n"
     ]
    }
   ],
   "source": [
    "! pip install -U google-cloud\n",
    "! pip install -U google-cloud-storage\n",
    "! pip install -U requests  "
   ]
  },
  {
   "cell_type": "markdown",
   "metadata": {
    "colab": {},
    "colab_type": "code",
    "id": "HThAQCHMfEIv"
   },
   "source": [
    "This Notebook is built to run in Google Cloud Notebooks, where you are already authenticated."
   ]
  },
  {
   "cell_type": "code",
   "execution_count": 31,
   "metadata": {
    "colab": {},
    "colab_type": "code",
    "id": "HThAQCHMfEIv"
   },
   "outputs": [],
   "source": [
    "shell_output=!gcloud config get-value project \n",
    "PROJECT_ID=shell_output[0]"
   ]
  },
  {
   "cell_type": "code",
   "execution_count": 32,
   "metadata": {
    "colab": {},
    "colab_type": "code",
    "id": "z4auQSQDfEI3"
   },
   "outputs": [],
   "source": [
    "import os\n",
    "import random\n",
    "import string\n",
    "import yaml\n",
    "\n",
    "\n",
    "from google.cloud import storage\n",
    "\n",
    "from googleapiclient import discovery\n",
    "from googleapiclient import errors"
   ]
  },
  {
   "cell_type": "markdown",
   "metadata": {
    "colab": {},
    "colab_type": "code",
    "id": "LLjuu6hrO_Vw"
   },
   "source": [
    "New Study ID each time to avoid collisions."
   ]
  },
  {
   "cell_type": "code",
   "execution_count": 33,
   "metadata": {
    "colab": {},
    "colab_type": "code",
    "id": "LLjuu6hrO_Vw"
   },
   "outputs": [],
   "source": [
    "USER = 'user1' \n",
    "STUDY_ID = f\"{USER.replace('-','')}_study_{datetime.datetime.now().strftime('%Y%m%d_%H%M%S')}\" \n",
    "REGION = 'us-central1'"
   ]
  },
  {
   "cell_type": "code",
   "execution_count": 34,
   "metadata": {
    "colab": {},
    "colab_type": "code",
    "id": "QSIltnu_emGh"
   },
   "outputs": [],
   "source": [
    "def study_name(study_id):\n",
    "  return f'projects/{PROJECT_ID}/locations/{REGION}/studies/{study_id}'\n",
    "\n",
    "def trial_name(study_id, trial_id):\n",
    "  return f'projects/{PROJECT_ID}/locations/{REGION}/studies/{study_id}/trials/{trial_id}'"
   ]
  },
  {
   "cell_type": "markdown",
   "metadata": {
    "colab": {},
    "colab_type": "code",
    "id": "4Nz6fd5eAer8"
   },
   "source": [
    "The REST API is defined in this JSON. You can see the content with \n",
    "\n",
    "\n",
    "`gsutil cp gs://caip-optimizer-public/api/ml_public_google_rest_v1.json . && less ml_public_google_rest_v1.json`\n",
    "\n",
    "Since it is dynamically defined, there are no API-specific Python classes."
   ]
  },
  {
   "cell_type": "code",
   "execution_count": 35,
   "metadata": {
    "colab": {},
    "colab_type": "code",
    "id": "4Nz6fd5eAer8"
   },
   "outputs": [],
   "source": [
    "def read_api_document():\n",
    "  client = storage.Client(PROJECT_ID)\n",
    "  bucket = client.get_bucket('caip-optimizer-public')\n",
    "  blob = bucket.get_blob('api/ml_public_google_rest_v1.json')\n",
    "  return blob.download_as_string()\n",
    "api_doc = read_api_document()\n",
    "\n",
    "ml = discovery.build_from_document(service=api_doc)"
   ]
  },
  {
   "cell_type": "code",
   "execution_count": 36,
   "metadata": {
    "colab": {},
    "colab_type": "code",
    "id": "jgskzqZX0Mkt"
   },
   "outputs": [],
   "source": [
    "_TRAINING_JOB_NAME_PATTERN = '{}_condition_parameters_{}_{}'\n",
    "_IMAGE_URIS = {'LINEAR' : 'gcr.io/cloud-ml-algos/linear_learner_cpu:latest', \n",
    "               'WIDE_AND_DEEP' : 'gcr.io/cloud-ml-algos/wide_deep_learner_cpu:latest'}\n",
    "_STEP_COUNT = 'step_count'\n",
    "_ACCURACY = 'accuracy'\n"
   ]
  },
  {
   "cell_type": "markdown",
   "metadata": {
    "colab": {},
    "colab_type": "code",
    "id": "jgskzqZX0Mkt"
   },
   "source": [
    "Define hyperparameters. Some are continuous (`double`), and some are integers, and some are categorical (in this case, selection of a model).\n",
    "\n",
    "Numerical hyperparams are defined as logarithmic where the values span orders of magnitude."
   ]
  },
  {
   "cell_type": "code",
   "execution_count": 37,
   "metadata": {
    "colab": {},
    "colab_type": "code",
    "id": "jgskzqZX0Mkt"
   },
   "outputs": [],
   "source": [
    "param_learning_rate = {\n",
    "    'parameter': 'learning_rate',\n",
    "    'type' : 'DOUBLE',\n",
    "    'double_value_spec' : {\n",
    "        'min_value' : 0.00001,\n",
    "        'max_value' : 100.0\n",
    "    },\n",
    "    'scale_type' : 'UNIT_LOG_SCALE',\n",
    "    'parent_categorical_values' : {\n",
    "        'values': ['LINEAR', 'WIDE_AND_DEEP']\n",
    "    },\n",
    "}\n",
    "\n",
    "param_dnn_learning_rate = {\n",
    "    'parameter': 'dnn_learning_rate',\n",
    "    'type' : 'DOUBLE',\n",
    "    'double_value_spec' : {\n",
    "        'min_value' : 0.0005,\n",
    "        'max_value' :0.05\n",
    "    },\n",
    "    'scale_type' : 'UNIT_LOG_SCALE',\n",
    "    'parent_categorical_values' : {\n",
    "        'values': ['WIDE_AND_DEEP']\n",
    "    },\n",
    "}\n",
    "\n",
    "param_max_steps={\n",
    "    'parameter': 'max_steps',\n",
    "    'type' : 'INTEGER',\n",
    "    'integer_value_spec' : {\n",
    "        'min_value' : 1,\n",
    "        'max_value' :1000\n",
    "    },\n",
    "    'scale_type' : 'UNIT_LOG_SCALE',\n",
    "    'parent_categorical_values' : {\n",
    "        'values': ['WIDE_AND_DEEP']\n",
    "    },\n",
    "}\n",
    "\n",
    "\n",
    "param_model_type = {\n",
    "    'parameter': 'model_type',\n",
    "    'type' : 'CATEGORICAL',\n",
    "    'categorical_value_spec' : {'values': ['LINEAR', 'WIDE_AND_DEEP']},\n",
    "    'child_parameter_specs' : [param_learning_rate, param_dnn_learning_rate,param_max_steps]\n",
    "}\n",
    "\n",
    "metric_spec = {\n",
    "    'metric' : _ACCURACY,\n",
    "    'goal' : 'MAXIMIZE'\n",
    "}\n",
    "\n",
    "study_config = {\n",
    "    'algorithm' : 'ALGORITHM_UNSPECIFIED',  \n",
    "    'parameters' : [param_model_type,], \n",
    "    'metrics' : [metric_spec],\n",
    "}\n",
    "\n",
    "study = {'study_config': study_config}"
   ]
  },
  {
   "cell_type": "code",
   "execution_count": 38,
   "metadata": {
    "colab": {},
    "colab_type": "code",
    "id": "jgskzqZX0Mkt"
   },
   "outputs": [],
   "source": [
    "req = ml.projects().locations().studies().create(\n",
    "    parent=f'projects/{PROJECT_ID}/locations/{REGION}', studyId=STUDY_ID, body=study)\n",
    "\n",
    "try :\n",
    "  result = req.execute() \n",
    "except errors.HttpError as e: \n",
    "  if e.resp.status == 409:\n",
    "    print('Study already exists')\n",
    "  else:\n",
    "    raise e"
   ]
  },
  {
   "cell_type": "code",
   "execution_count": 39,
   "metadata": {
    "colab": {},
    "colab_type": "code",
    "id": "nw8HNR0-27vi"
   },
   "outputs": [
    {
     "name": "stdout",
     "output_type": "stream",
     "text": [
      "Creating gs://vizier-tx3aea2y/...\n"
     ]
    }
   ],
   "source": [
    "WORKING_BUCKET =f\"vizier-{''.join(random.choices(string.ascii_lowercase + string.digits, k=8))}\"\n",
    "OUTPUT_DIR = 'output' \n",
    "\n",
    "!gsutil mb gs://$WORKING_BUCKET"
   ]
  },
  {
   "cell_type": "markdown",
   "metadata": {
    "colab": {},
    "colab_type": "code",
    "id": "nw8HNR0-27vi"
   },
   "source": [
    "Use the data in Joshua's bucket."
   ]
  },
  {
   "cell_type": "code",
   "execution_count": 40,
   "metadata": {
    "colab": {},
    "colab_type": "code",
    "id": "nw8HNR0-27vi"
   },
   "outputs": [],
   "source": [
    "TRAINING_DATA_PATH = f'gs://joshuafraud/fraud-noheader-withy.csv'  "
   ]
  },
  {
   "cell_type": "markdown",
   "metadata": {
    "colab": {},
    "colab_type": "code",
    "id": "Xnl1uqnyz3Qp"
   },
   "source": [
    "For each of a set of suggested trials (received from Vizier), runs a training job. Does these multiple jobs in parallel."
   ]
  },
  {
   "cell_type": "code",
   "execution_count": 41,
   "metadata": {
    "colab": {},
    "colab_type": "code",
    "id": "Xnl1uqnyz3Qp"
   },
   "outputs": [],
   "source": [
    "def evaluate_trials(trials):\n",
    "\n",
    "  trials_by_job_id = {}\n",
    "  measurement_by_trial_id = {}\n",
    "\n",
    "  for trial in trials:\n",
    "    trial_id = int(trial['name'].split('/')[-1])\n",
    "    model_type =  get_suggested_parameter_value(trial, 'model_type', 'stringValue')\n",
    "    learning_rate = get_suggested_parameter_value(trial, 'learning_rate', \n",
    "                                                'floatValue')\n",
    "    dnn_learning_rate = get_suggested_parameter_value(trial, 'dnn_learning_rate', \n",
    "                                                    'floatValue')\n",
    "    job_id = _TRAINING_JOB_NAME_PATTERN.format(STUDY_ID, model_type, trial_id)\n",
    "    trials_by_job_id[job_id] = {\n",
    "        'trial_id' : trial_id,\n",
    "        'model_type' : model_type,\n",
    "        'learning_rate' : learning_rate,\n",
    "        'dnn_learning_rate' : dnn_learning_rate, \n",
    "    }\n",
    "    \n",
    "    print('submitting',job_id, trial_id, model_type, learning_rate, dnn_learning_rate)\n",
    "    submit_training_job(job_id, trial_id, model_type, learning_rate, dnn_learning_rate)\n",
    "\n",
    "  # Waits for completion of AI Platform Training jobs.\n",
    "  while not  jobs_completed(trials_by_job_id.keys()):\n",
    "    time.sleep(60)\n",
    "  \n",
    "  print('Completed')\n",
    "\n",
    "  # Retrieves model training result(e.g. global_steps, accuracy, loss) for AI Platform Training jobs.\n",
    "  metrics_by_job_id = get_job_metrics(trials_by_job_id.keys())\n",
    "  for job_id, metric in metrics_by_job_id.items():\n",
    "    measurement =create_measurement(trials_by_job_id[job_id]['trial_id'],\n",
    "                                     trials_by_job_id[job_id]['model_type'],\n",
    "                                     trials_by_job_id[job_id]['learning_rate'], \n",
    "                                     trials_by_job_id[job_id]['dnn_learning_rate'],\n",
    "                                     metric)\n",
    "\n",
    "    measurement_by_trial_id[trials_by_job_id[job_id]['trial_id']] = measurement\n",
    "  return measurement_by_trial_id"
   ]
  },
  {
   "cell_type": "code",
   "execution_count": 42,
   "metadata": {
    "colab": {},
    "colab_type": "code",
    "id": "Xnl1uqnyz3Qp"
   },
   "outputs": [],
   "source": [
    "def create_measurement(trial_id, model_type, learning_rate, dnn_learning_rate, metric):\n",
    "  if not metric[_ACCURACY]:\n",
    "    # Returns `none` for trials without metrics. The trial will be marked as `INFEASIBLE`.\n",
    "    return None\n",
    "  dnn_lr = (dnn_learning_rate if dnn_learning_rate else 'N/A')\n",
    "  print(\"Trial\", trial_id,\"model_type\", model_type, \"learning_rate\", learning_rate, \n",
    "      \"dnn_learning_rate\", dnn_lr, _ACCURACY, metric[_ACCURACY])\n",
    "  measurement = {\n",
    "      _STEP_COUNT: metric[_STEP_COUNT], \n",
    "      'metrics': [{'metric': _ACCURACY, 'value': metric[_ACCURACY]},]}\n",
    "  return measurement\n",
    "\n",
    "\n",
    "def submit_training_job(job_id, trial_id, model_type, learning_rate, dnn_learning_rate=None):\n",
    "  try:\n",
    "    if model_type == 'LINEAR':\n",
    "      subprocess.check_output(linear_command(job_id, learning_rate), stderr=subprocess.STDOUT)\n",
    "    elif model_type == 'WIDE_AND_DEEP':\n",
    "      subprocess.check_output(wide_and_deep_command(job_id, learning_rate, dnn_learning_rate), stderr=subprocess.STDOUT)\n",
    "    print(f'Trial {trial_id}: Submitted job [https://console.cloud.google.com/ai-platform/jobs/{job_id}?project={PROJECT_ID}].')\n",
    "  except subprocess.CalledProcessError as e:\n",
    "    logging.error(e.output)\n",
    "\n",
    "\n",
    "def get_training_job_state(job_id):\n",
    "  cmd = ['gcloud', 'ai-platform', 'jobs', 'describe', job_id, \n",
    "         '--project', PROJECT_ID, \n",
    "         '--format', 'json']\n",
    "  try:\n",
    "    output = subprocess.check_output(cmd, stderr=subprocess.STDOUT, timeout=3)\n",
    "  except subprocess.CalledProcessError as e:\n",
    "    logging.error(e.output)\n",
    "  return json.loads(output)['state']\n",
    "\n",
    "\n",
    "def jobs_completed(jobs):\n",
    "  all_done = True\n",
    "  for job in jobs:\n",
    "    if get_training_job_state(job) not in ['SUCCEEDED', 'FAILED', 'CANCELLED']:\n",
    "      print(round(time.time()-start,1), f\"sec elapsed; Waiting for job https://console.cloud.google.com/ai-platform/jobs/{job}?project={PROJECT_ID}\")\n",
    "      all_done = False\n",
    "  return all_done\n",
    "\n",
    "\n",
    "def retrieve_accuracy(job_id):\n",
    "  storage_client = storage.Client(project=PROJECT_ID)\n",
    "  bucket = storage_client.get_bucket(WORKING_BUCKET)\n",
    "  blob_name = os.path.join(OUTPUT_DIR, job_id, 'model/deployment_config.yaml')\n",
    "  blob = storage.Blob(blob_name, bucket)\n",
    "  try: \n",
    "    blob.reload()\n",
    "    content = blob.download_as_string()\n",
    "    loaded_content = yaml.safe_load(content)    \n",
    "    accuracy = float(loaded_content['labels'][_ACCURACY]) #/ 100\n",
    "    step_count = int(loaded_content['labels']['global_step'])\n",
    "    return {_STEP_COUNT: step_count, _ACCURACY: accuracy}\n",
    "  except:\n",
    "    # Returns None if failed to load the built-in algo output file.\n",
    "    # It could be due to job failure and the trial will be `INFEASIBLE`\n",
    "    return None\n",
    "\n",
    "\n",
    "def get_job_metrics(jobs):\n",
    "  ret = {}\n",
    "  for job in jobs:\n",
    "    ret[job] = retrieve_accuracy(job)\n",
    "  return ret\n",
    "\n",
    "def get_suggested_parameter_value(trial, parameter, value_type):\n",
    "  param_found = [p for p in trial['parameters'] if p['parameter'] == parameter]\n",
    "  if param_found:\n",
    "    return param_found[0][value_type]\n",
    "  else: \n",
    "    return None\n",
    "\n",
    "\n",
    "def job_dir(job_id):\n",
    "  return os.path.join('gs://', WORKING_BUCKET, OUTPUT_DIR, job_id)"
   ]
  },
  {
   "cell_type": "markdown",
   "metadata": {
    "colab": {},
    "colab_type": "code",
    "id": "Xnl1uqnyz3Qp"
   },
   "source": [
    "The actual training is done in the AI Platform service, not locally in the Notebook."
   ]
  },
  {
   "cell_type": "code",
   "execution_count": 43,
   "metadata": {
    "colab": {},
    "colab_type": "code",
    "id": "Xnl1uqnyz3Qp"
   },
   "outputs": [],
   "source": [
    "def linear_command(job_id, learning_rate):\n",
    "  return ['gcloud', 'ai-platform', 'jobs', 'submit', 'training', job_id,\n",
    "          '--scale-tier', 'BASIC',\n",
    "          '--region', 'us-central1',\n",
    "          '--master-image-uri', _IMAGE_URIS['LINEAR'],\n",
    "          '--project', PROJECT_ID,\n",
    "          '--job-dir', job_dir(job_id),\n",
    "          '--',\n",
    "          '--preprocess',\n",
    "          '--model_type=classification',\n",
    "          '--batch_size=250',\n",
    "          '--max_steps=1000',\n",
    "          f'--learning_rate={learning_rate}',\n",
    "          f'--training_data_path={TRAINING_DATA_PATH}']\n",
    " \n",
    " \n",
    "def wide_and_deep_command(job_id, learning_rate, dnn_learning_rate):\n",
    "  return ['gcloud', 'ai-platform', 'jobs', 'submit', 'training', job_id,\n",
    "          '--scale-tier', 'BASIC',\n",
    "          '--region', 'us-central1',\n",
    "          '--master-image-uri', _IMAGE_URIS['WIDE_AND_DEEP'],\n",
    "          '--project', PROJECT_ID,\n",
    "          '--job-dir', job_dir(job_id),\n",
    "          '--',\n",
    "          '--preprocess',\n",
    "          '--test_split=0',\n",
    "          '--use_wide',\n",
    "          '--model_type=classification',\n",
    "          '--batch_size=250',\n",
    "          f'--learning_rate={learning_rate}',\n",
    "          f'--dnn_learning_rate={dnn_learning_rate}',\n",
    "          '--max_steps=1000',\n",
    "          f'--training_data_path={TRAINING_DATA_PATH}']"
   ]
  },
  {
   "cell_type": "markdown",
   "metadata": {
    "colab": {},
    "colab_type": "code",
    "id": "Xnl1uqnyz3Qp"
   },
   "source": [
    "Beware! Like all ML training, this can get expensive, so limit the number of suggestions from Vizier per request, and the total number of trials, as set in the variables below."
   ]
  },
  {
   "cell_type": "code",
   "execution_count": 44,
   "metadata": {
    "colab": {},
    "colab_type": "code",
    "id": "Xnl1uqnyz3Qp"
   },
   "outputs": [
    {
     "name": "stdout",
     "output_type": "stream",
     "text": [
      "client_id: client1 ; suggestions_per_request 2 ; trials_to_do: 2\n"
     ]
    }
   ],
   "source": [
    "client_id = 'client1'  \n",
    "suggestions_per_request = 2\n",
    "trials_to_do =  2\n",
    "print('client_id:', client_id, '; suggestions_per_request', suggestions_per_request, '; trials_to_do:', trials_to_do)"
   ]
  },
  {
   "cell_type": "markdown",
   "metadata": {
    "colab": {},
    "colab_type": "code",
    "id": "Xnl1uqnyz3Qp"
   },
   "source": [
    "The core loop: On each loop, asks for suggested trials from  from Vizier, then runs the trials"
   ]
  },
  {
   "cell_type": "code",
   "execution_count": 45,
   "metadata": {
    "colab": {},
    "colab_type": "code",
    "id": "Xnl1uqnyz3Qp"
   },
   "outputs": [
    {
     "name": "stdout",
     "output_type": "stream",
     "text": [
      "Trial 1: {'name': 'projects/401966870909/locations/us-central1/studies/user1_study_20211226_120542/trials/1', 'state': 'ACTIVE', 'parameters': [{'parameter': 'model_type', 'stringValue': 'LINEAR'}, {'parameter': 'learning_rate', 'floatValue': 0.031622776601683805}], 'startTime': '2021-12-26T12:05:45Z', 'clientId': 'client1'}\n",
      "Trial 2: {'name': 'projects/401966870909/locations/us-central1/studies/user1_study_20211226_120542/trials/2', 'state': 'ACTIVE', 'parameters': [{'parameter': 'model_type', 'stringValue': 'WIDE_AND_DEEP'}, {'parameter': 'dnn_learning_rate', 'floatValue': 0.005000000000000001}, {'parameter': 'learning_rate', 'floatValue': 0.031622776601683805}, {'parameter': 'max_steps', 'intValue': '32'}], 'startTime': '2021-12-26T12:05:45Z', 'clientId': 'client1'}\n",
      "submitting user1_study_20211226_120542_condition_parameters_LINEAR_1 1 LINEAR 0.031622776601683805 None\n",
      "Trial 1: Submitted job [https://console.cloud.google.com/ai-platform/jobs/user1_study_20211226_120542_condition_parameters_LINEAR_1?project=joshua-playground].\n",
      "submitting user1_study_20211226_120542_condition_parameters_WIDE_AND_DEEP_2 2 WIDE_AND_DEEP 0.031622776601683805 0.005000000000000001\n",
      "Trial 2: Submitted job [https://console.cloud.google.com/ai-platform/jobs/user1_study_20211226_120542_condition_parameters_WIDE_AND_DEEP_2?project=joshua-playground].\n",
      "15.9 sec elapsed; Waiting for job https://console.cloud.google.com/ai-platform/jobs/user1_study_20211226_120542_condition_parameters_LINEAR_1?project=joshua-playground\n",
      "17.0 sec elapsed; Waiting for job https://console.cloud.google.com/ai-platform/jobs/user1_study_20211226_120542_condition_parameters_WIDE_AND_DEEP_2?project=joshua-playground\n",
      "78.1 sec elapsed; Waiting for job https://console.cloud.google.com/ai-platform/jobs/user1_study_20211226_120542_condition_parameters_LINEAR_1?project=joshua-playground\n",
      "79.2 sec elapsed; Waiting for job https://console.cloud.google.com/ai-platform/jobs/user1_study_20211226_120542_condition_parameters_WIDE_AND_DEEP_2?project=joshua-playground\n",
      "140.3 sec elapsed; Waiting for job https://console.cloud.google.com/ai-platform/jobs/user1_study_20211226_120542_condition_parameters_LINEAR_1?project=joshua-playground\n",
      "141.3 sec elapsed; Waiting for job https://console.cloud.google.com/ai-platform/jobs/user1_study_20211226_120542_condition_parameters_WIDE_AND_DEEP_2?project=joshua-playground\n",
      "202.5 sec elapsed; Waiting for job https://console.cloud.google.com/ai-platform/jobs/user1_study_20211226_120542_condition_parameters_LINEAR_1?project=joshua-playground\n",
      "203.5 sec elapsed; Waiting for job https://console.cloud.google.com/ai-platform/jobs/user1_study_20211226_120542_condition_parameters_WIDE_AND_DEEP_2?project=joshua-playground\n",
      "264.6 sec elapsed; Waiting for job https://console.cloud.google.com/ai-platform/jobs/user1_study_20211226_120542_condition_parameters_LINEAR_1?project=joshua-playground\n",
      "265.7 sec elapsed; Waiting for job https://console.cloud.google.com/ai-platform/jobs/user1_study_20211226_120542_condition_parameters_WIDE_AND_DEEP_2?project=joshua-playground\n",
      "326.8 sec elapsed; Waiting for job https://console.cloud.google.com/ai-platform/jobs/user1_study_20211226_120542_condition_parameters_LINEAR_1?project=joshua-playground\n",
      "327.8 sec elapsed; Waiting for job https://console.cloud.google.com/ai-platform/jobs/user1_study_20211226_120542_condition_parameters_WIDE_AND_DEEP_2?project=joshua-playground\n",
      "388.9 sec elapsed; Waiting for job https://console.cloud.google.com/ai-platform/jobs/user1_study_20211226_120542_condition_parameters_LINEAR_1?project=joshua-playground\n",
      "389.9 sec elapsed; Waiting for job https://console.cloud.google.com/ai-platform/jobs/user1_study_20211226_120542_condition_parameters_WIDE_AND_DEEP_2?project=joshua-playground\n",
      "451.0 sec elapsed; Waiting for job https://console.cloud.google.com/ai-platform/jobs/user1_study_20211226_120542_condition_parameters_LINEAR_1?project=joshua-playground\n",
      "452.1 sec elapsed; Waiting for job https://console.cloud.google.com/ai-platform/jobs/user1_study_20211226_120542_condition_parameters_WIDE_AND_DEEP_2?project=joshua-playground\n",
      "513.1 sec elapsed; Waiting for job https://console.cloud.google.com/ai-platform/jobs/user1_study_20211226_120542_condition_parameters_LINEAR_1?project=joshua-playground\n",
      "514.2 sec elapsed; Waiting for job https://console.cloud.google.com/ai-platform/jobs/user1_study_20211226_120542_condition_parameters_WIDE_AND_DEEP_2?project=joshua-playground\n",
      "575.2 sec elapsed; Waiting for job https://console.cloud.google.com/ai-platform/jobs/user1_study_20211226_120542_condition_parameters_LINEAR_1?project=joshua-playground\n",
      "576.3 sec elapsed; Waiting for job https://console.cloud.google.com/ai-platform/jobs/user1_study_20211226_120542_condition_parameters_WIDE_AND_DEEP_2?project=joshua-playground\n",
      "637.4 sec elapsed; Waiting for job https://console.cloud.google.com/ai-platform/jobs/user1_study_20211226_120542_condition_parameters_LINEAR_1?project=joshua-playground\n",
      "638.5 sec elapsed; Waiting for job https://console.cloud.google.com/ai-platform/jobs/user1_study_20211226_120542_condition_parameters_WIDE_AND_DEEP_2?project=joshua-playground\n",
      "700.0 sec elapsed; Waiting for job https://console.cloud.google.com/ai-platform/jobs/user1_study_20211226_120542_condition_parameters_LINEAR_1?project=joshua-playground\n",
      "701.5 sec elapsed; Waiting for job https://console.cloud.google.com/ai-platform/jobs/user1_study_20211226_120542_condition_parameters_WIDE_AND_DEEP_2?project=joshua-playground\n",
      "Completed\n",
      "Trial 1 model_type LINEAR learning_rate 0.031622776601683805 dnn_learning_rate N/A accuracy 100.0\n",
      "Trial 2 model_type WIDE_AND_DEEP learning_rate 0.031622776601683805 dnn_learning_rate 0.005000000000000001 accuracy 100.0\n"
     ]
    }
   ],
   "source": [
    "current_trial_id = 0\n",
    "while current_trial_id < trials_to_do:\n",
    "  # Request trials\n",
    "  resp = ml.projects().locations().studies().trials().suggest(\n",
    "    parent = study_name(STUDY_ID), \n",
    "    body={'client_id': client_id, 'suggestion_count': suggestions_per_request}).execute()\n",
    "  \n",
    "  op_id = resp['name'].split('/')[-1]\n",
    "\n",
    "  # Polls the suggestion long-running operations.\n",
    "  get_op = ml.projects().locations().operations().get(name=f'projects/{PROJECT_ID}/locations/{REGION}/operations/{op_id}')\n",
    "  while True:\n",
    "      operation = get_op.execute()\n",
    "      if 'done' in operation and operation['done']:\n",
    "        break\n",
    "      time.sleep(1)\n",
    "  \n",
    "  # Featches the suggested trials.\n",
    "  trials = []\n",
    "  for suggested_trial in get_op.execute()['response']['trials']:\n",
    "    trial_id = int(suggested_trial['name'].split('/')[-1])\n",
    "    trial = ml.projects().locations().studies().trials().get(name=trial_name(STUDY_ID, trial_id)).execute()\n",
    "    if trial['state'] not in ['COMPLETED', 'INFEASIBLE']:\n",
    "      print(\"Trial {}: {}\".format(trial_id, trial))\n",
    "      trials.append(trial)\n",
    "    \n",
    "  measurement_by_trial_id = evaluate_trials(trials)\n",
    "\n",
    "  # Completes trials.\n",
    "  for trial in trials:\n",
    "    trial_id = int(trial['name'].split('/')[-1])\n",
    "    current_trial_id = trial_id\n",
    "    measurement = measurement_by_trial_id[trial_id]\n",
    "    \n",
    "    if measurement:\n",
    "      ml.projects().locations().studies().trials().complete(\n",
    "        name = trial_name(STUDY_ID, trial_id), \n",
    "        body = {'final_measurement' : measurement}).execute()\n",
    "    else:    \n",
    "       ml.projects().locations().studies().trials().complete(\n",
    "        name = trial_name(STUDY_ID, trial_id), \n",
    "        body = {'trial_infeasible' : True}).execute()"
   ]
  },
  {
   "cell_type": "markdown",
   "metadata": {
    "colab_type": "text",
    "id": "mJINN_7oVn64"
   },
   "source": [
    "You do not have to use Vizier's suggestions: You can ceate trials using your own parameters. "
   ]
  },
  {
   "cell_type": "code",
   "execution_count": 46,
   "metadata": {
    "colab": {},
    "colab_type": "code",
    "id": "dzT_aRv2Ug_A"
   },
   "outputs": [],
   "source": [
    "custom_trial = {\n",
    "  \"clientId\": \"client1\",\n",
    "  \"finalMeasurement\": {\n",
    "    \"metrics\": [\n",
    "      {\n",
    "        \"metric\": _ACCURACY,\n",
    "        \"value\": 0.86\n",
    "      }\n",
    "    ],\n",
    "    \"stepCount\": \"1000\"\n",
    "  },\n",
    "  \"parameters\": [\n",
    "    {\n",
    "      \"parameter\": \"model_type\",\n",
    "      \"stringValue\": \"LINEAR\"\n",
    "    },\n",
    "    {\n",
    "      \"floatValue\": 0.3869103706121445,\n",
    "      \"parameter\": \"learning_rate\"\n",
    "    }\n",
    "  ],\n",
    "  \"state\": \"COMPLETED\"\n",
    "}\n",
    "\n",
    "trial = ml.projects().locations().studies().trials().create(\n",
    "    parent=study_name(STUDY_ID), body=custom_trial).execute()"
   ]
  },
  {
   "cell_type": "code",
   "execution_count": 47,
   "metadata": {
    "colab": {},
    "colab_type": "code",
    "id": "PKwnbG9QCYh5"
   },
   "outputs": [
    {
     "data": {
      "text/plain": [
       "{'trials': [{'name': 'projects/401966870909/locations/us-central1/studies/user1_study_20211226_120542/trials/1',\n",
       "   'state': 'COMPLETED',\n",
       "   'parameters': [{'parameter': 'model_type', 'stringValue': 'LINEAR'},\n",
       "    {'parameter': 'learning_rate', 'floatValue': 0.031622776601683805}],\n",
       "   'finalMeasurement': {'stepCount': '1000',\n",
       "    'metrics': [{'metric': 'accuracy', 'value': 100}]},\n",
       "   'startTime': '2021-12-26T12:05:45Z',\n",
       "   'endTime': '2021-12-26T12:18:19Z',\n",
       "   'clientId': 'client1'},\n",
       "  {'name': 'projects/401966870909/locations/us-central1/studies/user1_study_20211226_120542/trials/2',\n",
       "   'state': 'COMPLETED',\n",
       "   'parameters': [{'parameter': 'model_type', 'stringValue': 'WIDE_AND_DEEP'},\n",
       "    {'parameter': 'dnn_learning_rate', 'floatValue': 0.005000000000000001},\n",
       "    {'parameter': 'learning_rate', 'floatValue': 0.031622776601683805},\n",
       "    {'parameter': 'max_steps', 'intValue': '32'}],\n",
       "   'finalMeasurement': {'stepCount': '1000',\n",
       "    'metrics': [{'metric': 'accuracy', 'value': 100}]},\n",
       "   'startTime': '2021-12-26T12:05:45Z',\n",
       "   'endTime': '2021-12-26T12:18:19Z',\n",
       "   'clientId': 'client1'},\n",
       "  {'name': 'projects/401966870909/locations/us-central1/studies/user1_study_20211226_120542/trials/3',\n",
       "   'state': 'COMPLETED',\n",
       "   'parameters': [{'parameter': 'model_type', 'stringValue': 'LINEAR'},\n",
       "    {'parameter': 'learning_rate', 'floatValue': 0.3869103706121445}],\n",
       "   'finalMeasurement': {'stepCount': '1000',\n",
       "    'metrics': [{'metric': 'accuracy', 'value': 0.86}]},\n",
       "   'startTime': '2021-12-26T12:18:20Z',\n",
       "   'endTime': '2021-12-26T12:18:20Z',\n",
       "   'clientId': 'client1'}]}"
      ]
     },
     "execution_count": 47,
     "metadata": {},
     "output_type": "execute_result"
    }
   ],
   "source": [
    "resp = ml.projects().locations().studies().trials().list(parent=study_name(STUDY_ID)).execute()\n",
    "resp"
   ]
  },
  {
   "cell_type": "markdown",
   "metadata": {
    "colab": {},
    "colab_type": "code",
    "id": "PKwnbG9QCYh5"
   },
   "source": [
    "Choose the best trial. This can also be requested from Vizier -- see the other Notebook"
   ]
  },
  {
   "cell_type": "code",
   "execution_count": 48,
   "metadata": {
    "colab": {},
    "colab_type": "code",
    "id": "PKwnbG9QCYh5"
   },
   "outputs": [
    {
     "data": {
      "text/plain": [
       "100"
      ]
     },
     "execution_count": 48,
     "metadata": {},
     "output_type": "execute_result"
    }
   ],
   "source": [
    "best_trial = max(resp['trials'], key=lambda t: t['finalMeasurement']['metrics'][0]['value'])\n",
    "best_trial['finalMeasurement']['metrics'][0]['value']"
   ]
  }
 ],
 "metadata": {
  "colab": {
   "collapsed_sections": [],
   "name": "ai_platform_optimizer_conditional_parameters.ipynb",
   "provenance": []
  },
  "environment": {
   "kernel": "myenv1",
   "name": "common-cpu.m87",
   "type": "gcloud",
   "uri": "gcr.io/deeplearning-platform-release/base-cpu:m87"
  },
  "kernelspec": {
   "display_name": "myenv1",
   "language": "python",
   "name": "myenv1"
  },
  "language_info": {
   "codemirror_mode": {
    "name": "ipython",
    "version": 3
   },
   "file_extension": ".py",
   "mimetype": "text/x-python",
   "name": "python",
   "nbconvert_exporter": "python",
   "pygments_lexer": "ipython3",
   "version": "3.7.12"
  }
 },
 "nbformat": 4,
 "nbformat_minor": 4
}
