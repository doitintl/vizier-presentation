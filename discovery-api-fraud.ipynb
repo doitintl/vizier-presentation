{
 "cells": [
  {
   "cell_type": "code",
   "execution_count": 1,
   "metadata": {
    "colab": {},
    "colab_type": "code",
    "id": "IMVB9pudfEIr"
   },
   "outputs": [],
   "source": [
    "import time \n",
    "start = time.time()"
   ]
  },
  {
   "cell_type": "code",
   "execution_count": 2,
   "metadata": {
    "colab": {},
    "colab_type": "code",
    "id": "IMVB9pudfEIr"
   },
   "outputs": [],
   "source": [
    "#! pip install -U google-cloud\n",
    "#! pip install -U google-cloud-storage\n",
    "#! pip install -U requests  "
   ]
  },
  {
   "cell_type": "code",
   "execution_count": 3,
   "metadata": {
    "colab": {},
    "colab_type": "code",
    "id": "HThAQCHMfEIv"
   },
   "outputs": [],
   "source": [
    "shell_output=!gcloud config get-value project \n",
    "PROJECT_ID=shell_output[0]"
   ]
  },
  {
   "cell_type": "code",
   "execution_count": 4,
   "metadata": {
    "colab": {},
    "colab_type": "code",
    "id": "z4auQSQDfEI3"
   },
   "outputs": [],
   "source": [
    "import json\n",
    "\n",
    "import datetime\n",
    "import logging\n",
    "\n",
    "import subprocess\n",
    "import os\n",
    "import yaml\n",
    "\n",
    "\n",
    "from google.cloud import storage\n",
    "\n",
    "from googleapiclient import discovery\n",
    "from googleapiclient import errors"
   ]
  },
  {
   "cell_type": "code",
   "execution_count": 5,
   "metadata": {
    "colab": {},
    "colab_type": "code",
    "id": "LLjuu6hrO_Vw"
   },
   "outputs": [],
   "source": [
    "USER = 'user1' \n",
    "STUDY_ID = f\"{USER.replace('-','')}_study_{datetime.datetime.now().strftime('%Y%m%d_%H%M%S')}\" \n",
    "REGION = 'us-central1'"
   ]
  },
  {
   "cell_type": "code",
   "execution_count": 6,
   "metadata": {
    "colab": {},
    "colab_type": "code",
    "id": "QSIltnu_emGh"
   },
   "outputs": [],
   "source": [
    "def study_name(study_id):\n",
    "  return f'projects/{PROJECT_ID}/locations/{REGION}/studies/{study_id}'\n",
    "\n",
    "def trial_name(study_id, trial_id):\n",
    "  return f'projects/{PROJECT_ID}/locations/{REGION}/studies/{study_id}/trials/{trial_id}'"
   ]
  },
  {
   "cell_type": "code",
   "execution_count": 7,
   "metadata": {
    "colab": {},
    "colab_type": "code",
    "id": "4Nz6fd5eAer8"
   },
   "outputs": [],
   "source": [
    "def read_api_document():\n",
    "  client = storage.Client(PROJECT_ID)\n",
    "  bucket = client.get_bucket('caip-optimizer-public')\n",
    "  blob = bucket.get_blob('api/ml_public_google_rest_v1.json')\n",
    "  return blob.download_as_string()\n",
    "api_doc = read_api_document()\n",
    "\n",
    "ml = discovery.build_from_document(service=api_doc)"
   ]
  },
  {
   "cell_type": "code",
   "execution_count": 8,
   "metadata": {
    "colab": {},
    "colab_type": "code",
    "id": "jgskzqZX0Mkt"
   },
   "outputs": [],
   "source": [
    "_TRAINING_JOB_NAME_PATTERN = '{}_condition_parameters_{}_{}'\n",
    "_IMAGE_URIS = {'LINEAR' : 'gcr.io/cloud-ml-algos/linear_learner_cpu:latest', \n",
    "               'WIDE_AND_DEEP' : 'gcr.io/cloud-ml-algos/wide_deep_learner_cpu:latest'}\n",
    "_STEP_COUNT = 'step_count'\n",
    "_ACCURACY = 'accuracy'\n"
   ]
  },
  {
   "cell_type": "code",
   "execution_count": 9,
   "metadata": {
    "colab": {},
    "colab_type": "code",
    "id": "jgskzqZX0Mkt"
   },
   "outputs": [],
   "source": [
    "param_learning_rate = {\n",
    "    'parameter': 'learning_rate',\n",
    "    'type' : 'DOUBLE',\n",
    "    'double_value_spec' : {\n",
    "        'min_value' : 0.00001,\n",
    "        'max_value' : 100.0\n",
    "    },\n",
    "    'scale_type' : 'UNIT_LOG_SCALE',\n",
    "    'parent_categorical_values' : {\n",
    "        'values': ['LINEAR', 'WIDE_AND_DEEP']\n",
    "    },\n",
    "}\n",
    "\n",
    "param_dnn_learning_rate = {\n",
    "    'parameter': 'dnn_learning_rate',\n",
    "    'type' : 'DOUBLE',\n",
    "    'double_value_spec' : {\n",
    "        'min_value' : 0.0005,\n",
    "        'max_value' :0.05\n",
    "    },\n",
    "    'scale_type' : 'UNIT_LOG_SCALE',\n",
    "    'parent_categorical_values' : {\n",
    "        'values': ['WIDE_AND_DEEP']\n",
    "    },\n",
    "}\n",
    "\n",
    "param_max_steps={\n",
    "    'parameter': 'max_steps',\n",
    "    'type' : 'INTEGER',\n",
    "    'integer_value_spec' : {\n",
    "        'min_value' : 1,\n",
    "        'max_value' :1000\n",
    "    },\n",
    "    'scale_type' : 'UNIT_LOG_SCALE',\n",
    "    'parent_categorical_values' : {\n",
    "        'values': ['WIDE_AND_DEEP']\n",
    "    },\n",
    "}\n",
    "\n",
    "\n",
    "param_model_type = {\n",
    "    'parameter': 'model_type',\n",
    "    'type' : 'CATEGORICAL',\n",
    "    'categorical_value_spec' : {'values': ['LINEAR', 'WIDE_AND_DEEP']},\n",
    "    'child_parameter_specs' : [param_learning_rate, param_dnn_learning_rate,param_max_steps]\n",
    "}\n",
    "\n",
    "metric_spec = {\n",
    "    'metric' : _ACCURACY,\n",
    "    'goal' : 'MAXIMIZE'\n",
    "}\n",
    "\n",
    "study_config = {\n",
    "    'algorithm' : 'ALGORITHM_UNSPECIFIED',  \n",
    "    'parameters' : [param_model_type,], \n",
    "    'metrics' : [metric_spec],\n",
    "}\n",
    "\n",
    "study = {'study_config': study_config}"
   ]
  },
  {
   "cell_type": "code",
   "execution_count": 10,
   "metadata": {
    "colab": {},
    "colab_type": "code",
    "id": "jgskzqZX0Mkt"
   },
   "outputs": [],
   "source": [
    "req = ml.projects().locations().studies().create(\n",
    "    parent=f'projects/{PROJECT_ID}/locations/{REGION}', studyId=STUDY_ID, body=study)\n",
    "\n",
    "try :\n",
    "  result = req.execute() \n",
    "except errors.HttpError as e: \n",
    "  if e.resp.status == 409:\n",
    "    print('Study already exists')\n",
    "  else:\n",
    "    raise e"
   ]
  },
  {
   "cell_type": "code",
   "execution_count": 11,
   "metadata": {
    "colab": {},
    "colab_type": "code",
    "id": "nw8HNR0-27vi"
   },
   "outputs": [],
   "source": [
    "WORKING_BUCKET = 'vizierjoshua' \n",
    "OUTPUT_DIR = 'output' \n",
    "TRAINING_DATA_PATH = f'gs://jsohuafraud/fraud-noheader-withy.csv'  \n",
    "TRAINING_DATA_PATH='gs://caip-optimizer-public/sample-data/raw_census_train.csv'"
   ]
  },
  {
   "cell_type": "code",
   "execution_count": 12,
   "metadata": {
    "colab": {},
    "colab_type": "code",
    "id": "Xnl1uqnyz3Qp"
   },
   "outputs": [],
   "source": [
    "\n",
    "def evaluate_trials(trials):\n",
    "\n",
    "  trials_by_job_id = {}\n",
    "  measurement_by_trial_id = {}\n",
    "\n",
    "  for trial in trials:\n",
    "    trial_id = int(trial['name'].split('/')[-1])\n",
    "    model_type =  get_suggested_parameter_value(trial, 'model_type', 'stringValue')\n",
    "    learning_rate = get_suggested_parameter_value(trial, 'learning_rate', \n",
    "                                                'floatValue')\n",
    "    dnn_learning_rate = get_suggested_parameter_value(trial, 'dnn_learning_rate', \n",
    "                                                    'floatValue')\n",
    "    job_id = _TRAINING_JOB_NAME_PATTERN.format(STUDY_ID, model_type, trial_id)\n",
    "    trials_by_job_id[job_id] = {\n",
    "        'trial_id' : trial_id,\n",
    "        'model_type' : model_type,\n",
    "        'learning_rate' : learning_rate,\n",
    "        'dnn_learning_rate' : dnn_learning_rate, \n",
    "    }\n",
    "    \n",
    "    print('submitting',job_id, trial_id, model_type, learning_rate, dnn_learning_rate)\n",
    "    submit_training_job(job_id, trial_id, model_type, learning_rate, dnn_learning_rate)\n",
    "\n",
    "  # Waits for completion of AI Platform Training jobs.\n",
    "  while not  jobs_completed(trials_by_job_id.keys()):\n",
    "    time.sleep(60)\n",
    "  \n",
    "  print('Completed')\n",
    "\n",
    "  # Retrieves model training result(e.g. global_steps, accuracy, loss) for AI Platform Training jobs.\n",
    "  metrics_by_job_id = get_job_metrics(trials_by_job_id.keys())\n",
    "  for job_id, metric in metrics_by_job_id.items():\n",
    "    measurement =create_measurement(trials_by_job_id[job_id]['trial_id'],\n",
    "                                     trials_by_job_id[job_id]['model_type'],\n",
    "                                     trials_by_job_id[job_id]['learning_rate'], \n",
    "                                     trials_by_job_id[job_id]['dnn_learning_rate'],\n",
    "                                     metric)\n",
    "\n",
    "    measurement_by_trial_id[trials_by_job_id[job_id]['trial_id']] = measurement\n",
    "  return measurement_by_trial_id\n",
    "\n",
    "\n",
    "def create_measurement(trial_id, model_type, learning_rate, dnn_learning_rate, metric):\n",
    "  if not metric[_ACCURACY]:\n",
    "    # Returns `none` for trials without metrics. The trial will be marked as `INFEASIBLE`.\n",
    "    return None\n",
    "  dnn_lr = (dnn_learning_rate if dnn_learning_rate else 'N/A')\n",
    "  print(\"Trial\", trial_id,\"model_type\", model_type, \"learning_rate\", learning_rate, \n",
    "      \"dnn_learning_rate\", dnn_lr, _ACCURACY, metric[_ACCURACY])\n",
    "  measurement = {\n",
    "      _STEP_COUNT: metric[_STEP_COUNT], \n",
    "      'metrics': [{'metric': _ACCURACY, 'value': metric[_ACCURACY]},]}\n",
    "  return measurement\n",
    "\n",
    "\n",
    "def submit_training_job(job_id, trial_id, model_type, learning_rate, dnn_learning_rate=None):\n",
    "  try:\n",
    "    if model_type == 'LINEAR':\n",
    "      subprocess.check_output(linear_command(job_id, learning_rate), stderr=subprocess.STDOUT)\n",
    "    elif model_type == 'WIDE_AND_DEEP':\n",
    "      subprocess.check_output(wide_and_deep_command(job_id, learning_rate, dnn_learning_rate), stderr=subprocess.STDOUT)\n",
    "    print(f'Trial {trial_id}: Submitted job [https://console.cloud.google.com/ai-platform/jobs/{job_id}?project={PROJECT_ID}].')\n",
    "  except subprocess.CalledProcessError as e:\n",
    "    logging.error(e.output)\n",
    "\n",
    "\n",
    "def get_training_job_state(job_id):\n",
    "  cmd = ['gcloud', 'ai-platform', 'jobs', 'describe', job_id, \n",
    "         '--project', PROJECT_ID, \n",
    "         '--format', 'json']\n",
    "  try:\n",
    "    output = subprocess.check_output(cmd, stderr=subprocess.STDOUT, timeout=3)\n",
    "  except subprocess.CalledProcessError as e:\n",
    "    logging.error(e.output)\n",
    "  return json.loads(output)['state']\n",
    "\n",
    "\n",
    "def jobs_completed(jobs):\n",
    "  all_done = True\n",
    "  for job in jobs:\n",
    "    if get_training_job_state(job) not in ['SUCCEEDED', 'FAILED', 'CANCELLED']:\n",
    "      print(round(time.time()-start,1), f\"sec elapsed; Waiting for job https://console.cloud.google.com/ai-platform/jobs/{job}?project={PROJECT_ID}\")\n",
    "      all_done = False\n",
    "  return all_done\n",
    "\n",
    "\n",
    "def retrieve_accuracy(job_id):\n",
    "  storage_client = storage.Client(project=PROJECT_ID)\n",
    "  bucket = storage_client.get_bucket(WORKING_BUCKET)\n",
    "  blob_name = os.path.join(OUTPUT_DIR, job_id, 'model/deployment_config.yaml')\n",
    "  blob = storage.Blob(blob_name, bucket)\n",
    "  try: \n",
    "    blob.reload()\n",
    "    content = blob.download_as_string()\n",
    "    loaded_content = yaml.safe_load(content)    \n",
    "    accuracy = float(loaded_content['labels'][_ACCURACY]) #/ 100\n",
    "    step_count = int(loaded_content['labels']['global_step'])\n",
    "    return {_STEP_COUNT: step_count, _ACCURACY: accuracy}\n",
    "  except:\n",
    "    # Returns None if failed to load the built-in algo output file.\n",
    "    # It could be due to job failure and the trial will be `INFEASIBLE`\n",
    "    return None\n",
    "\n",
    "\n",
    "def get_job_metrics(jobs):\n",
    "  ret = {}\n",
    "  for job in jobs:\n",
    "    ret[job] = retrieve_accuracy(job)\n",
    "  return ret\n",
    "\n",
    "def get_suggested_parameter_value(trial, parameter, value_type):\n",
    "  param_found = [p for p in trial['parameters'] if p['parameter'] == parameter]\n",
    "  if param_found:\n",
    "    return param_found[0][value_type]\n",
    "  else: \n",
    "    return None\n",
    "\n",
    "\n",
    "def job_dir(job_id):\n",
    "  return os.path.join('gs://', WORKING_BUCKET, OUTPUT_DIR, job_id)\n",
    "\n",
    "\n",
    "def linear_command(job_id, learning_rate):\n",
    "  return ['gcloud', 'ai-platform', 'jobs', 'submit', 'training', job_id,\n",
    "          '--scale-tier', 'BASIC',\n",
    "          '--region', 'us-central1',\n",
    "          '--master-image-uri', _IMAGE_URIS['LINEAR'],\n",
    "          '--project', PROJECT_ID,\n",
    "          '--job-dir', job_dir(job_id),\n",
    "          '--',\n",
    "          '--preprocess',\n",
    "          '--model_type=classification',\n",
    "          '--batch_size=250',\n",
    "          '--max_steps=1000',\n",
    "          f'--learning_rate={learning_rate}',\n",
    "          f'--training_data_path={TRAINING_DATA_PATH}']\n",
    " \n",
    " \n",
    "def wide_and_deep_command(job_id, learning_rate, dnn_learning_rate):\n",
    "  return ['gcloud', 'ai-platform', 'jobs', 'submit', 'training', job_id,\n",
    "          '--scale-tier', 'BASIC',\n",
    "          '--region', 'us-central1',\n",
    "          '--master-image-uri', _IMAGE_URIS['WIDE_AND_DEEP'],\n",
    "          '--project', PROJECT_ID,\n",
    "          '--job-dir', job_dir(job_id),\n",
    "          '--',\n",
    "          '--preprocess',\n",
    "          '--test_split=0',\n",
    "          '--use_wide',\n",
    "#          '--embed_categories',\n",
    "          '--model_type=classification',\n",
    "          '--batch_size=250',\n",
    "          f'--learning_rate={learning_rate}',\n",
    "          f'--dnn_learning_rate={dnn_learning_rate}',\n",
    "          '--max_steps=1000',\n",
    "          f'--training_data_path={TRAINING_DATA_PATH}']"
   ]
  },
  {
   "cell_type": "code",
   "execution_count": 13,
   "metadata": {
    "colab": {},
    "colab_type": "code",
    "id": "Xnl1uqnyz3Qp"
   },
   "outputs": [
    {
     "name": "stdout",
     "output_type": "stream",
     "text": [
      "client_id: client1 ; suggestions_per_request 5 ; trials_to_do: 10\n"
     ]
    }
   ],
   "source": [
    "client_id = 'client1'  \n",
    "suggestions_per_request = 5\n",
    "trials_to_do =   10\n",
    "print('client_id:', client_id, '; suggestions_per_request', suggestions_per_request, '; trials_to_do:', trials_to_do)"
   ]
  },
  {
   "cell_type": "code",
   "execution_count": 14,
   "metadata": {
    "colab": {},
    "colab_type": "code",
    "id": "Xnl1uqnyz3Qp"
   },
   "outputs": [
    {
     "name": "stdout",
     "output_type": "stream",
     "text": [
      "Trial 1: {'name': 'projects/401966870909/locations/us-central1/studies/user1_study_20211220_133631/trials/1', 'state': 'ACTIVE', 'parameters': [{'parameter': 'model_type', 'stringValue': 'LINEAR'}, {'parameter': 'learning_rate', 'floatValue': 0.031622776601683805}], 'startTime': '2021-12-20T13:36:33Z', 'clientId': 'client1'}\n",
      "Trial 2: {'name': 'projects/401966870909/locations/us-central1/studies/user1_study_20211220_133631/trials/2', 'state': 'ACTIVE', 'parameters': [{'parameter': 'model_type', 'stringValue': 'WIDE_AND_DEEP'}, {'parameter': 'dnn_learning_rate', 'floatValue': 0.005000000000000001}, {'parameter': 'learning_rate', 'floatValue': 0.031622776601683805}, {'parameter': 'max_steps', 'intValue': '32'}], 'startTime': '2021-12-20T13:36:33Z', 'clientId': 'client1'}\n",
      "Trial 3: {'name': 'projects/401966870909/locations/us-central1/studies/user1_study_20211220_133631/trials/3', 'state': 'ACTIVE', 'parameters': [{'parameter': 'model_type', 'stringValue': 'LINEAR'}, {'parameter': 'learning_rate', 'floatValue': 1.28818169338409}], 'startTime': '2021-12-20T13:36:33Z', 'clientId': 'client1'}\n",
      "Trial 4: {'name': 'projects/401966870909/locations/us-central1/studies/user1_study_20211220_133631/trials/4', 'state': 'ACTIVE', 'parameters': [{'parameter': 'model_type', 'stringValue': 'LINEAR'}, {'parameter': 'learning_rate', 'floatValue': 0.00047863349861882197}], 'startTime': '2021-12-20T13:36:33Z', 'clientId': 'client1'}\n",
      "Trial 5: {'name': 'projects/401966870909/locations/us-central1/studies/user1_study_20211220_133631/trials/5', 'state': 'ACTIVE', 'parameters': [{'parameter': 'model_type', 'stringValue': 'WIDE_AND_DEEP'}, {'parameter': 'dnn_learning_rate', 'floatValue': 0.013413011532536394}, {'parameter': 'learning_rate', 'floatValue': 1.0082431407947012}, {'parameter': 'max_steps', 'intValue': '14'}], 'startTime': '2021-12-20T13:36:33Z', 'clientId': 'client1'}\n",
      "submitting user1_study_20211220_133631_condition_parameters_LINEAR_1 1 LINEAR 0.031622776601683805 None\n",
      "Trial 1: Submitted job [https://console.cloud.google.com/ai-platform/jobs/user1_study_20211220_133631_condition_parameters_LINEAR_1?project=joshua-playground].\n",
      "submitting user1_study_20211220_133631_condition_parameters_WIDE_AND_DEEP_2 2 WIDE_AND_DEEP 0.031622776601683805 0.005000000000000001\n",
      "Trial 2: Submitted job [https://console.cloud.google.com/ai-platform/jobs/user1_study_20211220_133631_condition_parameters_WIDE_AND_DEEP_2?project=joshua-playground].\n",
      "submitting user1_study_20211220_133631_condition_parameters_LINEAR_3 3 LINEAR 1.28818169338409 None\n",
      "Trial 3: Submitted job [https://console.cloud.google.com/ai-platform/jobs/user1_study_20211220_133631_condition_parameters_LINEAR_3?project=joshua-playground].\n",
      "submitting user1_study_20211220_133631_condition_parameters_LINEAR_4 4 LINEAR 0.00047863349861882197 None\n",
      "Trial 4: Submitted job [https://console.cloud.google.com/ai-platform/jobs/user1_study_20211220_133631_condition_parameters_LINEAR_4?project=joshua-playground].\n",
      "submitting user1_study_20211220_133631_condition_parameters_WIDE_AND_DEEP_5 5 WIDE_AND_DEEP 1.0082431407947012 0.013413011532536394\n",
      "Trial 5: Submitted job [https://console.cloud.google.com/ai-platform/jobs/user1_study_20211220_133631_condition_parameters_WIDE_AND_DEEP_5?project=joshua-playground].\n",
      "14.4 sec elapsed; Waiting for job https://console.cloud.google.com/ai-platform/jobs/user1_study_20211220_133631_condition_parameters_LINEAR_1?project=joshua-playground\n",
      "15.4 sec elapsed; Waiting for job https://console.cloud.google.com/ai-platform/jobs/user1_study_20211220_133631_condition_parameters_WIDE_AND_DEEP_2?project=joshua-playground\n",
      "16.4 sec elapsed; Waiting for job https://console.cloud.google.com/ai-platform/jobs/user1_study_20211220_133631_condition_parameters_LINEAR_3?project=joshua-playground\n",
      "17.5 sec elapsed; Waiting for job https://console.cloud.google.com/ai-platform/jobs/user1_study_20211220_133631_condition_parameters_LINEAR_4?project=joshua-playground\n",
      "18.6 sec elapsed; Waiting for job https://console.cloud.google.com/ai-platform/jobs/user1_study_20211220_133631_condition_parameters_WIDE_AND_DEEP_5?project=joshua-playground\n",
      "79.7 sec elapsed; Waiting for job https://console.cloud.google.com/ai-platform/jobs/user1_study_20211220_133631_condition_parameters_LINEAR_1?project=joshua-playground\n",
      "80.8 sec elapsed; Waiting for job https://console.cloud.google.com/ai-platform/jobs/user1_study_20211220_133631_condition_parameters_WIDE_AND_DEEP_2?project=joshua-playground\n",
      "81.8 sec elapsed; Waiting for job https://console.cloud.google.com/ai-platform/jobs/user1_study_20211220_133631_condition_parameters_LINEAR_3?project=joshua-playground\n",
      "82.9 sec elapsed; Waiting for job https://console.cloud.google.com/ai-platform/jobs/user1_study_20211220_133631_condition_parameters_LINEAR_4?project=joshua-playground\n",
      "83.9 sec elapsed; Waiting for job https://console.cloud.google.com/ai-platform/jobs/user1_study_20211220_133631_condition_parameters_WIDE_AND_DEEP_5?project=joshua-playground\n",
      "145.0 sec elapsed; Waiting for job https://console.cloud.google.com/ai-platform/jobs/user1_study_20211220_133631_condition_parameters_LINEAR_1?project=joshua-playground\n",
      "146.1 sec elapsed; Waiting for job https://console.cloud.google.com/ai-platform/jobs/user1_study_20211220_133631_condition_parameters_WIDE_AND_DEEP_2?project=joshua-playground\n",
      "147.2 sec elapsed; Waiting for job https://console.cloud.google.com/ai-platform/jobs/user1_study_20211220_133631_condition_parameters_LINEAR_3?project=joshua-playground\n",
      "148.2 sec elapsed; Waiting for job https://console.cloud.google.com/ai-platform/jobs/user1_study_20211220_133631_condition_parameters_LINEAR_4?project=joshua-playground\n",
      "149.2 sec elapsed; Waiting for job https://console.cloud.google.com/ai-platform/jobs/user1_study_20211220_133631_condition_parameters_WIDE_AND_DEEP_5?project=joshua-playground\n",
      "210.4 sec elapsed; Waiting for job https://console.cloud.google.com/ai-platform/jobs/user1_study_20211220_133631_condition_parameters_LINEAR_1?project=joshua-playground\n",
      "211.5 sec elapsed; Waiting for job https://console.cloud.google.com/ai-platform/jobs/user1_study_20211220_133631_condition_parameters_WIDE_AND_DEEP_2?project=joshua-playground\n",
      "212.5 sec elapsed; Waiting for job https://console.cloud.google.com/ai-platform/jobs/user1_study_20211220_133631_condition_parameters_LINEAR_3?project=joshua-playground\n",
      "213.5 sec elapsed; Waiting for job https://console.cloud.google.com/ai-platform/jobs/user1_study_20211220_133631_condition_parameters_LINEAR_4?project=joshua-playground\n",
      "214.6 sec elapsed; Waiting for job https://console.cloud.google.com/ai-platform/jobs/user1_study_20211220_133631_condition_parameters_WIDE_AND_DEEP_5?project=joshua-playground\n",
      "275.7 sec elapsed; Waiting for job https://console.cloud.google.com/ai-platform/jobs/user1_study_20211220_133631_condition_parameters_LINEAR_1?project=joshua-playground\n",
      "276.7 sec elapsed; Waiting for job https://console.cloud.google.com/ai-platform/jobs/user1_study_20211220_133631_condition_parameters_WIDE_AND_DEEP_2?project=joshua-playground\n",
      "277.7 sec elapsed; Waiting for job https://console.cloud.google.com/ai-platform/jobs/user1_study_20211220_133631_condition_parameters_LINEAR_3?project=joshua-playground\n",
      "278.7 sec elapsed; Waiting for job https://console.cloud.google.com/ai-platform/jobs/user1_study_20211220_133631_condition_parameters_LINEAR_4?project=joshua-playground\n",
      "279.8 sec elapsed; Waiting for job https://console.cloud.google.com/ai-platform/jobs/user1_study_20211220_133631_condition_parameters_WIDE_AND_DEEP_5?project=joshua-playground\n",
      "340.9 sec elapsed; Waiting for job https://console.cloud.google.com/ai-platform/jobs/user1_study_20211220_133631_condition_parameters_LINEAR_1?project=joshua-playground\n",
      "341.9 sec elapsed; Waiting for job https://console.cloud.google.com/ai-platform/jobs/user1_study_20211220_133631_condition_parameters_WIDE_AND_DEEP_2?project=joshua-playground\n",
      "342.9 sec elapsed; Waiting for job https://console.cloud.google.com/ai-platform/jobs/user1_study_20211220_133631_condition_parameters_LINEAR_3?project=joshua-playground\n",
      "343.9 sec elapsed; Waiting for job https://console.cloud.google.com/ai-platform/jobs/user1_study_20211220_133631_condition_parameters_LINEAR_4?project=joshua-playground\n",
      "345.0 sec elapsed; Waiting for job https://console.cloud.google.com/ai-platform/jobs/user1_study_20211220_133631_condition_parameters_WIDE_AND_DEEP_5?project=joshua-playground\n",
      "406.0 sec elapsed; Waiting for job https://console.cloud.google.com/ai-platform/jobs/user1_study_20211220_133631_condition_parameters_LINEAR_1?project=joshua-playground\n",
      "407.0 sec elapsed; Waiting for job https://console.cloud.google.com/ai-platform/jobs/user1_study_20211220_133631_condition_parameters_WIDE_AND_DEEP_2?project=joshua-playground\n",
      "408.1 sec elapsed; Waiting for job https://console.cloud.google.com/ai-platform/jobs/user1_study_20211220_133631_condition_parameters_LINEAR_3?project=joshua-playground\n",
      "409.1 sec elapsed; Waiting for job https://console.cloud.google.com/ai-platform/jobs/user1_study_20211220_133631_condition_parameters_LINEAR_4?project=joshua-playground\n",
      "410.0 sec elapsed; Waiting for job https://console.cloud.google.com/ai-platform/jobs/user1_study_20211220_133631_condition_parameters_WIDE_AND_DEEP_5?project=joshua-playground\n",
      "Completed\n",
      "Trial 1 model_type LINEAR learning_rate 0.031622776601683805 dnn_learning_rate N/A accuracy 87.0\n",
      "Trial 2 model_type WIDE_AND_DEEP learning_rate 0.031622776601683805 dnn_learning_rate 0.005000000000000001 accuracy 86.0\n",
      "Trial 3 model_type LINEAR learning_rate 1.28818169338409 dnn_learning_rate N/A accuracy 79.0\n",
      "Trial 4 model_type LINEAR learning_rate 0.00047863349861882197 dnn_learning_rate N/A accuracy 84.0\n",
      "Trial 5 model_type WIDE_AND_DEEP learning_rate 1.0082431407947012 dnn_learning_rate 0.013413011532536394 accuracy 83.0\n",
      "Trial 6: {'name': 'projects/401966870909/locations/us-central1/studies/user1_study_20211220_133631/trials/6', 'state': 'ACTIVE', 'parameters': [{'parameter': 'model_type', 'stringValue': 'WIDE_AND_DEEP'}, {'parameter': 'dnn_learning_rate', 'floatValue': 0.004840517678466645}, {'parameter': 'learning_rate', 'floatValue': 0.029312602738022848}, {'parameter': 'max_steps', 'intValue': '33'}], 'startTime': '2021-12-20T13:44:29Z', 'clientId': 'client1'}\n",
      "Trial 7: {'name': 'projects/401966870909/locations/us-central1/studies/user1_study_20211220_133631/trials/7', 'state': 'ACTIVE', 'parameters': [{'parameter': 'model_type', 'stringValue': 'WIDE_AND_DEEP'}, {'parameter': 'dnn_learning_rate', 'floatValue': 0.004931835428028116}, {'parameter': 'learning_rate', 'floatValue': 0.03092466807583752}, {'parameter': 'max_steps', 'intValue': '32'}], 'startTime': '2021-12-20T13:44:29Z', 'clientId': 'client1'}\n",
      "Trial 8: {'name': 'projects/401966870909/locations/us-central1/studies/user1_study_20211220_133631/trials/8', 'state': 'ACTIVE', 'parameters': [{'parameter': 'model_type', 'stringValue': 'WIDE_AND_DEEP'}, {'parameter': 'dnn_learning_rate', 'floatValue': 0.004901391843523721}, {'parameter': 'learning_rate', 'floatValue': 0.030307100251487043}, {'parameter': 'max_steps', 'intValue': '32'}], 'startTime': '2021-12-20T13:44:29Z', 'clientId': 'client1'}\n",
      "Trial 9: {'name': 'projects/401966870909/locations/us-central1/studies/user1_study_20211220_133631/trials/9', 'state': 'ACTIVE', 'parameters': [{'parameter': 'model_type', 'stringValue': 'WIDE_AND_DEEP'}, {'parameter': 'dnn_learning_rate', 'floatValue': 0.00493078573491425}, {'parameter': 'learning_rate', 'floatValue': 0.03094591719020627}, {'parameter': 'max_steps', 'intValue': '32'}], 'startTime': '2021-12-20T13:44:29Z', 'clientId': 'client1'}\n",
      "Trial 10: {'name': 'projects/401966870909/locations/us-central1/studies/user1_study_20211220_133631/trials/10', 'state': 'ACTIVE', 'parameters': [{'parameter': 'model_type', 'stringValue': 'WIDE_AND_DEEP'}, {'parameter': 'dnn_learning_rate', 'floatValue': 0.004876884249817771}, {'parameter': 'learning_rate', 'floatValue': 0.029856550429323454}, {'parameter': 'max_steps', 'intValue': '32'}], 'startTime': '2021-12-20T13:44:29Z', 'clientId': 'client1'}\n",
      "submitting user1_study_20211220_133631_condition_parameters_WIDE_AND_DEEP_6 6 WIDE_AND_DEEP 0.029312602738022848 0.004840517678466645\n",
      "Trial 6: Submitted job [https://console.cloud.google.com/ai-platform/jobs/user1_study_20211220_133631_condition_parameters_WIDE_AND_DEEP_6?project=joshua-playground].\n",
      "submitting user1_study_20211220_133631_condition_parameters_WIDE_AND_DEEP_7 7 WIDE_AND_DEEP 0.03092466807583752 0.004931835428028116\n",
      "Trial 7: Submitted job [https://console.cloud.google.com/ai-platform/jobs/user1_study_20211220_133631_condition_parameters_WIDE_AND_DEEP_7?project=joshua-playground].\n",
      "submitting user1_study_20211220_133631_condition_parameters_WIDE_AND_DEEP_8 8 WIDE_AND_DEEP 0.030307100251487043 0.004901391843523721\n",
      "Trial 8: Submitted job [https://console.cloud.google.com/ai-platform/jobs/user1_study_20211220_133631_condition_parameters_WIDE_AND_DEEP_8?project=joshua-playground].\n",
      "submitting user1_study_20211220_133631_condition_parameters_WIDE_AND_DEEP_9 9 WIDE_AND_DEEP 0.03094591719020627 0.00493078573491425\n",
      "Trial 9: Submitted job [https://console.cloud.google.com/ai-platform/jobs/user1_study_20211220_133631_condition_parameters_WIDE_AND_DEEP_9?project=joshua-playground].\n",
      "submitting user1_study_20211220_133631_condition_parameters_WIDE_AND_DEEP_10 10 WIDE_AND_DEEP 0.029856550429323454 0.004876884249817771\n",
      "Trial 10: Submitted job [https://console.cloud.google.com/ai-platform/jobs/user1_study_20211220_133631_condition_parameters_WIDE_AND_DEEP_10?project=joshua-playground].\n",
      "491.6 sec elapsed; Waiting for job https://console.cloud.google.com/ai-platform/jobs/user1_study_20211220_133631_condition_parameters_WIDE_AND_DEEP_6?project=joshua-playground\n",
      "492.7 sec elapsed; Waiting for job https://console.cloud.google.com/ai-platform/jobs/user1_study_20211220_133631_condition_parameters_WIDE_AND_DEEP_7?project=joshua-playground\n",
      "493.7 sec elapsed; Waiting for job https://console.cloud.google.com/ai-platform/jobs/user1_study_20211220_133631_condition_parameters_WIDE_AND_DEEP_8?project=joshua-playground\n",
      "494.7 sec elapsed; Waiting for job https://console.cloud.google.com/ai-platform/jobs/user1_study_20211220_133631_condition_parameters_WIDE_AND_DEEP_9?project=joshua-playground\n",
      "495.5 sec elapsed; Waiting for job https://console.cloud.google.com/ai-platform/jobs/user1_study_20211220_133631_condition_parameters_WIDE_AND_DEEP_10?project=joshua-playground\n",
      "556.6 sec elapsed; Waiting for job https://console.cloud.google.com/ai-platform/jobs/user1_study_20211220_133631_condition_parameters_WIDE_AND_DEEP_6?project=joshua-playground\n",
      "557.7 sec elapsed; Waiting for job https://console.cloud.google.com/ai-platform/jobs/user1_study_20211220_133631_condition_parameters_WIDE_AND_DEEP_7?project=joshua-playground\n",
      "558.6 sec elapsed; Waiting for job https://console.cloud.google.com/ai-platform/jobs/user1_study_20211220_133631_condition_parameters_WIDE_AND_DEEP_8?project=joshua-playground\n",
      "559.6 sec elapsed; Waiting for job https://console.cloud.google.com/ai-platform/jobs/user1_study_20211220_133631_condition_parameters_WIDE_AND_DEEP_9?project=joshua-playground\n",
      "560.6 sec elapsed; Waiting for job https://console.cloud.google.com/ai-platform/jobs/user1_study_20211220_133631_condition_parameters_WIDE_AND_DEEP_10?project=joshua-playground\n",
      "621.7 sec elapsed; Waiting for job https://console.cloud.google.com/ai-platform/jobs/user1_study_20211220_133631_condition_parameters_WIDE_AND_DEEP_6?project=joshua-playground\n",
      "622.8 sec elapsed; Waiting for job https://console.cloud.google.com/ai-platform/jobs/user1_study_20211220_133631_condition_parameters_WIDE_AND_DEEP_7?project=joshua-playground\n",
      "623.8 sec elapsed; Waiting for job https://console.cloud.google.com/ai-platform/jobs/user1_study_20211220_133631_condition_parameters_WIDE_AND_DEEP_8?project=joshua-playground\n",
      "624.7 sec elapsed; Waiting for job https://console.cloud.google.com/ai-platform/jobs/user1_study_20211220_133631_condition_parameters_WIDE_AND_DEEP_9?project=joshua-playground\n",
      "625.7 sec elapsed; Waiting for job https://console.cloud.google.com/ai-platform/jobs/user1_study_20211220_133631_condition_parameters_WIDE_AND_DEEP_10?project=joshua-playground\n",
      "686.8 sec elapsed; Waiting for job https://console.cloud.google.com/ai-platform/jobs/user1_study_20211220_133631_condition_parameters_WIDE_AND_DEEP_6?project=joshua-playground\n",
      "687.9 sec elapsed; Waiting for job https://console.cloud.google.com/ai-platform/jobs/user1_study_20211220_133631_condition_parameters_WIDE_AND_DEEP_7?project=joshua-playground\n",
      "689.0 sec elapsed; Waiting for job https://console.cloud.google.com/ai-platform/jobs/user1_study_20211220_133631_condition_parameters_WIDE_AND_DEEP_8?project=joshua-playground\n",
      "690.0 sec elapsed; Waiting for job https://console.cloud.google.com/ai-platform/jobs/user1_study_20211220_133631_condition_parameters_WIDE_AND_DEEP_9?project=joshua-playground\n",
      "691.1 sec elapsed; Waiting for job https://console.cloud.google.com/ai-platform/jobs/user1_study_20211220_133631_condition_parameters_WIDE_AND_DEEP_10?project=joshua-playground\n",
      "752.2 sec elapsed; Waiting for job https://console.cloud.google.com/ai-platform/jobs/user1_study_20211220_133631_condition_parameters_WIDE_AND_DEEP_6?project=joshua-playground\n",
      "753.2 sec elapsed; Waiting for job https://console.cloud.google.com/ai-platform/jobs/user1_study_20211220_133631_condition_parameters_WIDE_AND_DEEP_7?project=joshua-playground\n",
      "754.3 sec elapsed; Waiting for job https://console.cloud.google.com/ai-platform/jobs/user1_study_20211220_133631_condition_parameters_WIDE_AND_DEEP_8?project=joshua-playground\n",
      "755.3 sec elapsed; Waiting for job https://console.cloud.google.com/ai-platform/jobs/user1_study_20211220_133631_condition_parameters_WIDE_AND_DEEP_9?project=joshua-playground\n",
      "756.4 sec elapsed; Waiting for job https://console.cloud.google.com/ai-platform/jobs/user1_study_20211220_133631_condition_parameters_WIDE_AND_DEEP_10?project=joshua-playground\n",
      "817.5 sec elapsed; Waiting for job https://console.cloud.google.com/ai-platform/jobs/user1_study_20211220_133631_condition_parameters_WIDE_AND_DEEP_6?project=joshua-playground\n",
      "818.6 sec elapsed; Waiting for job https://console.cloud.google.com/ai-platform/jobs/user1_study_20211220_133631_condition_parameters_WIDE_AND_DEEP_7?project=joshua-playground\n",
      "819.7 sec elapsed; Waiting for job https://console.cloud.google.com/ai-platform/jobs/user1_study_20211220_133631_condition_parameters_WIDE_AND_DEEP_8?project=joshua-playground\n",
      "820.7 sec elapsed; Waiting for job https://console.cloud.google.com/ai-platform/jobs/user1_study_20211220_133631_condition_parameters_WIDE_AND_DEEP_9?project=joshua-playground\n",
      "821.7 sec elapsed; Waiting for job https://console.cloud.google.com/ai-platform/jobs/user1_study_20211220_133631_condition_parameters_WIDE_AND_DEEP_10?project=joshua-playground\n",
      "882.8 sec elapsed; Waiting for job https://console.cloud.google.com/ai-platform/jobs/user1_study_20211220_133631_condition_parameters_WIDE_AND_DEEP_6?project=joshua-playground\n",
      "883.9 sec elapsed; Waiting for job https://console.cloud.google.com/ai-platform/jobs/user1_study_20211220_133631_condition_parameters_WIDE_AND_DEEP_7?project=joshua-playground\n",
      "884.9 sec elapsed; Waiting for job https://console.cloud.google.com/ai-platform/jobs/user1_study_20211220_133631_condition_parameters_WIDE_AND_DEEP_8?project=joshua-playground\n",
      "885.9 sec elapsed; Waiting for job https://console.cloud.google.com/ai-platform/jobs/user1_study_20211220_133631_condition_parameters_WIDE_AND_DEEP_9?project=joshua-playground\n",
      "886.9 sec elapsed; Waiting for job https://console.cloud.google.com/ai-platform/jobs/user1_study_20211220_133631_condition_parameters_WIDE_AND_DEEP_10?project=joshua-playground\n",
      "Completed\n",
      "Trial 6 model_type WIDE_AND_DEEP learning_rate 0.029312602738022848 dnn_learning_rate 0.004840517678466645 accuracy 86.0\n",
      "Trial 7 model_type WIDE_AND_DEEP learning_rate 0.03092466807583752 dnn_learning_rate 0.004931835428028116 accuracy 86.0\n",
      "Trial 8 model_type WIDE_AND_DEEP learning_rate 0.030307100251487043 dnn_learning_rate 0.004901391843523721 accuracy 86.0\n",
      "Trial 9 model_type WIDE_AND_DEEP learning_rate 0.03094591719020627 dnn_learning_rate 0.00493078573491425 accuracy 86.0\n",
      "Trial 10 model_type WIDE_AND_DEEP learning_rate 0.029856550429323454 dnn_learning_rate 0.004876884249817771 accuracy 86.0\n"
     ]
    }
   ],
   "source": [
    "current_trial_id = 0\n",
    "while current_trial_id < trials_to_do:\n",
    "  # Request trials\n",
    "  resp = ml.projects().locations().studies().trials().suggest(\n",
    "    parent = study_name(STUDY_ID), \n",
    "    body={'client_id': client_id, 'suggestion_count': suggestions_per_request}).execute()\n",
    "  \n",
    "  op_id = resp['name'].split('/')[-1]\n",
    "\n",
    "  # Polls the suggestion long-running operations.\n",
    "  get_op = ml.projects().locations().operations().get(name=f'projects/{PROJECT_ID}/locations/{REGION}/operations/{op_id}')\n",
    "  while True:\n",
    "      operation = get_op.execute()\n",
    "      if 'done' in operation and operation['done']:\n",
    "        break\n",
    "      time.sleep(1)\n",
    "  \n",
    "  # Featches the suggested trials.\n",
    "  trials = []\n",
    "  for suggested_trial in get_op.execute()['response']['trials']:\n",
    "    trial_id = int(suggested_trial['name'].split('/')[-1])\n",
    "    trial = ml.projects().locations().studies().trials().get(name=trial_name(STUDY_ID, trial_id)).execute()\n",
    "    if trial['state'] not in ['COMPLETED', 'INFEASIBLE']:\n",
    "      print(\"Trial {}: {}\".format(trial_id, trial))\n",
    "      trials.append(trial)\n",
    "    \n",
    "  measurement_by_trial_id = evaluate_trials(trials)\n",
    "\n",
    "  # Completes trials.\n",
    "  for trial in trials:\n",
    "    trial_id = int(trial['name'].split('/')[-1])\n",
    "    current_trial_id = trial_id\n",
    "    measurement = measurement_by_trial_id[trial_id]\n",
    "    \n",
    "    if measurement:\n",
    "      ml.projects().locations().studies().trials().complete(\n",
    "        name = trial_name(STUDY_ID, trial_id), \n",
    "        body = {'final_measurement' : measurement}).execute()\n",
    "    else:    \n",
    "       ml.projects().locations().studies().trials().complete(\n",
    "        name = trial_name(STUDY_ID, trial_id), \n",
    "        body = {'trial_infeasible' : True}).execute()"
   ]
  },
  {
   "cell_type": "code",
   "execution_count": 15,
   "metadata": {
    "colab": {},
    "colab_type": "code",
    "id": "Xnl1uqnyz3Qp"
   },
   "outputs": [
    {
     "name": "stdout",
     "output_type": "stream",
     "text": [
      "Trials:\n",
      "('  Trial #', '1', '; metric', 87, '; parameters:', \"('model_type', 'LINEAR'),('learning_rate', 0.031622776601683805)\")\n",
      "('  Trial #', '2', '; metric', 86, '; parameters:', \"('model_type', 'WIDE_AND_DEEP'),('dnn_learning_rate', 0.005000000000000001),('learning_rate', 0.031622776601683805),('max_steps', '!!')\")\n",
      "('  Trial #', '3', '; metric', 79, '; parameters:', \"('model_type', 'LINEAR'),('learning_rate', 1.28818169338409)\")\n",
      "('  Trial #', '4', '; metric', 84, '; parameters:', \"('model_type', 'LINEAR'),('learning_rate', 0.00047863349861882197)\")\n",
      "('  Trial #', '5', '; metric', 83, '; parameters:', \"('model_type', 'WIDE_AND_DEEP'),('dnn_learning_rate', 0.013413011532536394),('learning_rate', 1.0082431407947012),('max_steps', '!!')\")\n",
      "('  Trial #', '6', '; metric', 86, '; parameters:', \"('model_type', 'WIDE_AND_DEEP'),('dnn_learning_rate', 0.004840517678466645),('learning_rate', 0.029312602738022848),('max_steps', '!!')\")\n",
      "('  Trial #', '7', '; metric', 86, '; parameters:', \"('model_type', 'WIDE_AND_DEEP'),('dnn_learning_rate', 0.004931835428028116),('learning_rate', 0.03092466807583752),('max_steps', '!!')\")\n",
      "('  Trial #', '8', '; metric', 86, '; parameters:', \"('model_type', 'WIDE_AND_DEEP'),('dnn_learning_rate', 0.004901391843523721),('learning_rate', 0.030307100251487043),('max_steps', '!!')\")\n",
      "('  Trial #', '9', '; metric', 86, '; parameters:', \"('model_type', 'WIDE_AND_DEEP'),('dnn_learning_rate', 0.00493078573491425),('learning_rate', 0.03094591719020627),('max_steps', '!!')\")\n",
      "('  Trial #', '10', '; metric', 86, '; parameters:', \"('model_type', 'WIDE_AND_DEEP'),('dnn_learning_rate', 0.004876884249817771),('learning_rate', 0.029856550429323454),('max_steps', '!!')\")\n"
     ]
    }
   ],
   "source": [
    "# Explore results, print best\n",
    "resp = ml.projects().locations().studies().trials().list(parent=study_name(STUDY_ID)).execute()\n",
    "\n",
    "def trial_str(t):\n",
    "    params = [(p['parameter'], p.get('floatValue', p.get('stringValue', \"!!\"))) for p in t['parameters']]\n",
    "    return \"  Trial #\", t['name'].split('/')[-1], '; metric', t['finalMeasurement']['metrics'][0]['value'], '; parameters:', \",\".join((str(p) for p in params)) \n",
    "\n",
    "    \n",
    "print(\"Trials:\")\n",
    "\n",
    "bestrun = None\n",
    "for t in  resp['trials']:\n",
    "    metric =t['finalMeasurement']['metrics'][0]\n",
    "    assert metric[\"metric\"] == _ACCURACY, metric\n",
    "    acc = metric['value']\n",
    "    print(trial_str(t))\n",
    "    if  bestrun is None or bestrun['finalMeasurement']['metrics'][0]['value'] < acc:\n",
    "        bestrun = t\n",
    "        "
   ]
  },
  {
   "cell_type": "code",
   "execution_count": 16,
   "metadata": {
    "colab": {},
    "colab_type": "code",
    "id": "Xnl1uqnyz3Qp"
   },
   "outputs": [
    {
     "name": "stdout",
     "output_type": "stream",
     "text": [
      "Best run: \n",
      "('  Trial #', '1', '; metric', 87, '; parameters:', \"('model_type', 'LINEAR'),('learning_rate', 0.031622776601683805)\")\n"
     ]
    }
   ],
   "source": [
    "print(\"Best run: \")\n",
    "print(trial_str(bestrun))"
   ]
  },
  {
   "cell_type": "markdown",
   "metadata": {
    "colab_type": "text",
    "id": "mJINN_7oVn64"
   },
   "source": [
    "###  Create trials using your own parameters\n"
   ]
  },
  {
   "cell_type": "code",
   "execution_count": 17,
   "metadata": {
    "colab": {},
    "colab_type": "code",
    "id": "dzT_aRv2Ug_A"
   },
   "outputs": [],
   "source": [
    "custom_trial = {\n",
    "  \"clientId\": \"client1\",\n",
    "  \"finalMeasurement\": {\n",
    "    \"metrics\": [\n",
    "      {\n",
    "        \"metric\": _ACCURACY,\n",
    "        \"value\": 0.86\n",
    "      }\n",
    "    ],\n",
    "    \"stepCount\": \"1000\"\n",
    "  },\n",
    "  \"parameters\": [\n",
    "    {\n",
    "      \"parameter\": \"model_type\",\n",
    "      \"stringValue\": \"LINEAR\"\n",
    "    },\n",
    "    {\n",
    "      \"floatValue\": 0.3869103706121445,\n",
    "      \"parameter\": \"learning_rate\"\n",
    "    }\n",
    "  ],\n",
    "  \"state\": \"COMPLETED\"\n",
    "}\n",
    "\n",
    "trial = ml.projects().locations().studies().trials().create(\n",
    "    parent=study_name(STUDY_ID), body=custom_trial).execute()\n",
    "\n",
    "#print(json.dumps(trial, indent=2, sort_keys=True))"
   ]
  },
  {
   "cell_type": "markdown",
   "metadata": {
    "colab_type": "text",
    "id": "ZShOQGgCCXIo"
   },
   "source": [
    "### List the trials\n",
    "\n",
    "List the results of each optimization trial training."
   ]
  },
  {
   "cell_type": "code",
   "execution_count": 19,
   "metadata": {
    "colab": {},
    "colab_type": "code",
    "id": "PKwnbG9QCYh5"
   },
   "outputs": [],
   "source": [
    "resp = ml.projects().locations().studies().trials().list(parent=study_name(STUDY_ID)).execute()\n",
    "#print(json.dumps(resp, indent=2, sort_keys=True))\n",
    "resp"
   ]
  },
  {
   "cell_type": "code",
   "execution_count": 30,
   "metadata": {
    "colab": {},
    "colab_type": "code",
    "id": "PKwnbG9QCYh5"
   },
   "outputs": [
    {
     "data": {
      "text/plain": [
       "87"
      ]
     },
     "execution_count": 30,
     "metadata": {},
     "output_type": "execute_result"
    }
   ],
   "source": [
    "best_trial = max(resp['trials'], key=lambda t: t['finalMeasurement']['metrics'][0]['value'])\n",
    "best_trial['finalMeasurement']['metrics'][0]['value']"
   ]
  },
  {
   "cell_type": "code",
   "execution_count": null,
   "metadata": {},
   "outputs": [],
   "source": []
  }
 ],
 "metadata": {
  "colab": {
   "collapsed_sections": [],
   "name": "ai_platform_optimizer_conditional_parameters.ipynb",
   "provenance": []
  },
  "environment": {
   "kernel": "python3",
   "name": "common-cpu.m87",
   "type": "gcloud",
   "uri": "gcr.io/deeplearning-platform-release/base-cpu:m87"
  },
  "kernelspec": {
   "display_name": "Python 3",
   "language": "python",
   "name": "python3"
  },
  "language_info": {
   "codemirror_mode": {
    "name": "ipython",
    "version": 3
   },
   "file_extension": ".py",
   "mimetype": "text/x-python",
   "name": "python",
   "nbconvert_exporter": "python",
   "pygments_lexer": "ipython3",
   "version": "3.7.12"
  }
 },
 "nbformat": 4,
 "nbformat_minor": 4
}
